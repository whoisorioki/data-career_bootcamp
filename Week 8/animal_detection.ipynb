{
 "cells": [
  {
   "attachments": {},
   "cell_type": "markdown",
   "metadata": {},
   "source": [
    "## Part 1 : Building the CNN"
   ]
  },
  {
   "cell_type": "code",
   "execution_count": 32,
   "metadata": {},
   "outputs": [],
   "source": [
    "# Import libraries and packages\n",
    "import numpy as np\n",
    "from tensorflow.keras.preprocessing import image\n",
    "from keras.models import Sequential\n",
    "from keras.layers import Convolution2D\n",
    "from keras.layers import MaxPooling2D\n",
    "from keras.layers import Flatten\n",
    "from keras.layers import Dense\n",
    "from keras.preprocessing.image import ImageDataGenerator\n"
   ]
  },
  {
   "cell_type": "code",
   "execution_count": 33,
   "metadata": {},
   "outputs": [],
   "source": [
    "# Initializing the CNN\n",
    "classifier = Sequential()\n"
   ]
  },
  {
   "cell_type": "code",
   "execution_count": 34,
   "metadata": {},
   "outputs": [],
   "source": [
    "# Step 1 - Convolution\n",
    "classifier.add(Convolution2D(32, 3, 3, input_shape=(64, 64, 3), activation='relu'))\n"
   ]
  },
  {
   "cell_type": "code",
   "execution_count": 35,
   "metadata": {},
   "outputs": [],
   "source": [
    "# Step 2 - Pooling\n",
    "classifier.add(MaxPooling2D(pool_size=(2, 2)))\n"
   ]
  },
  {
   "cell_type": "code",
   "execution_count": 36,
   "metadata": {},
   "outputs": [],
   "source": [
    "# To increase Efficiency, add another Convolutional layer\n",
    "classifier.add(Convolution2D(32, 3, 3, activation='relu'))\n",
    "classifier.add(MaxPooling2D(pool_size=(2, 2)))\n"
   ]
  },
  {
   "cell_type": "code",
   "execution_count": 37,
   "metadata": {},
   "outputs": [],
   "source": [
    "# Step 3 - Flattening\n",
    "classifier.add(Flatten())\n"
   ]
  },
  {
   "cell_type": "code",
   "execution_count": 38,
   "metadata": {},
   "outputs": [],
   "source": [
    "# Step 4 - Full Connection\n",
    "classifier.add(Dense(units=128, activation='relu'))\n"
   ]
  },
  {
   "cell_type": "code",
   "execution_count": 39,
   "metadata": {},
   "outputs": [],
   "source": [
    "# Output layer\n",
    "classifier.add(Dense(units=80, activation='softmax'))\n"
   ]
  },
  {
   "cell_type": "code",
   "execution_count": 40,
   "metadata": {},
   "outputs": [],
   "source": [
    "# Compiling the CNN\n",
    "classifier.compile(optimizer='adam', loss='categorical_crossentropy', metrics=['accuracy'])"
   ]
  },
  {
   "attachments": {},
   "cell_type": "markdown",
   "metadata": {},
   "source": [
    "## Part 2 : Fitting the CNN to the images"
   ]
  },
  {
   "cell_type": "code",
   "execution_count": 41,
   "metadata": {},
   "outputs": [],
   "source": [
    "train_datagen = ImageDataGenerator(\n",
    "    rescale=1./255,\n",
    "    shear_range=0.2,\n",
    "    zoom_range=0.2,\n",
    "    horizontal_flip=True)\n",
    "\n",
    "test_datagen = ImageDataGenerator(rescale=1./255)\n"
   ]
  },
  {
   "cell_type": "code",
   "execution_count": 42,
   "metadata": {},
   "outputs": [
    {
     "name": "stdout",
     "output_type": "stream",
     "text": [
      "Found 22566 images belonging to 80 classes.\n"
     ]
    }
   ],
   "source": [
    "training_set = train_datagen.flow_from_directory('animal dataset/train',\n",
    "                                                 target_size=(64, 64),\n",
    "                                                 batch_size=5,\n",
    "                                                 class_mode='categorical')\n"
   ]
  },
  {
   "cell_type": "code",
   "execution_count": 43,
   "metadata": {},
   "outputs": [
    {
     "name": "stdout",
     "output_type": "stream",
     "text": [
      "Found 6505 images belonging to 80 classes.\n"
     ]
    }
   ],
   "source": [
    "test_set = test_datagen.flow_from_directory('animal dataset/test',\n",
    "                                            target_size=(64, 64),\n",
    "                                            batch_size=5,\n",
    "                                            class_mode='categorical')\n"
   ]
  },
  {
   "cell_type": "code",
   "execution_count": 45,
   "metadata": {},
   "outputs": [
    {
     "name": "stdout",
     "output_type": "stream",
     "text": [
      "Epoch 1/50\n",
      "   1/4514 [..............................] - ETA: 6:19 - loss: 4.3263 - accuracy: 0.0000e+00"
     ]
    },
    {
     "name": "stderr",
     "output_type": "stream",
     "text": [
      "2023-04-07 14:38:33.149578: I tensorflow/core/common_runtime/executor.cc:1197] [/device:CPU:0] (DEBUG INFO) Executor start aborting (this does not indicate an error and you can ignore this message): INVALID_ARGUMENT: You must feed a value for placeholder tensor 'Placeholder/_0' with dtype int32\n",
      "\t [[{{node Placeholder/_0}}]]\n"
     ]
    },
    {
     "name": "stdout",
     "output_type": "stream",
     "text": [
      "4514/4514 [==============================] - ETA: 0s - loss: 3.7542 - accuracy: 0.1181"
     ]
    },
    {
     "name": "stderr",
     "output_type": "stream",
     "text": [
      "2023-04-07 14:42:31.777804: I tensorflow/core/common_runtime/executor.cc:1197] [/device:CPU:0] (DEBUG INFO) Executor start aborting (this does not indicate an error and you can ignore this message): INVALID_ARGUMENT: You must feed a value for placeholder tensor 'Placeholder/_0' with dtype int32\n",
      "\t [[{{node Placeholder/_0}}]]\n"
     ]
    },
    {
     "name": "stdout",
     "output_type": "stream",
     "text": [
      "4514/4514 [==============================] - 299s 66ms/step - loss: 3.7542 - accuracy: 0.1181 - val_loss: 4.0052 - val_accuracy: 0.0930\n",
      "Epoch 2/50\n",
      "4514/4514 [==============================] - 290s 64ms/step - loss: 3.6090 - accuracy: 0.1405 - val_loss: 3.9340 - val_accuracy: 0.0832\n",
      "Epoch 3/50\n",
      "4514/4514 [==============================] - 292s 65ms/step - loss: 3.5302 - accuracy: 0.1555 - val_loss: 4.1004 - val_accuracy: 0.0892\n",
      "Epoch 4/50\n",
      "4514/4514 [==============================] - 296s 66ms/step - loss: 3.4675 - accuracy: 0.1651 - val_loss: 4.0063 - val_accuracy: 0.0967\n",
      "Epoch 5/50\n",
      "4514/4514 [==============================] - 290s 64ms/step - loss: 3.4195 - accuracy: 0.1732 - val_loss: 3.9314 - val_accuracy: 0.1107\n",
      "Epoch 6/50\n",
      "4514/4514 [==============================] - 302s 67ms/step - loss: 3.3849 - accuracy: 0.1756 - val_loss: 3.9644 - val_accuracy: 0.1099\n",
      "Epoch 7/50\n",
      "4514/4514 [==============================] - 279s 62ms/step - loss: 3.3693 - accuracy: 0.1815 - val_loss: 3.9830 - val_accuracy: 0.1118\n",
      "Epoch 8/50\n",
      "4514/4514 [==============================] - 287s 63ms/step - loss: 3.3438 - accuracy: 0.1833 - val_loss: 3.9883 - val_accuracy: 0.1071\n",
      "Epoch 9/50\n",
      "4514/4514 [==============================] - 286s 63ms/step - loss: 3.3199 - accuracy: 0.1863 - val_loss: 3.8709 - val_accuracy: 0.1144\n",
      "Epoch 10/50\n",
      "4514/4514 [==============================] - 286s 63ms/step - loss: 3.3048 - accuracy: 0.1910 - val_loss: 3.9083 - val_accuracy: 0.1162\n",
      "Epoch 11/50\n",
      "4514/4514 [==============================] - 293s 65ms/step - loss: 3.2973 - accuracy: 0.1879 - val_loss: 3.9275 - val_accuracy: 0.1234\n",
      "Epoch 12/50\n",
      "4514/4514 [==============================] - 313s 69ms/step - loss: 3.2842 - accuracy: 0.1972 - val_loss: 3.9691 - val_accuracy: 0.1108\n",
      "Epoch 13/50\n",
      "4514/4514 [==============================] - 327s 72ms/step - loss: 3.2693 - accuracy: 0.1952 - val_loss: 3.8727 - val_accuracy: 0.1345\n",
      "Epoch 14/50\n",
      "4514/4514 [==============================] - 340s 75ms/step - loss: 3.2552 - accuracy: 0.1987 - val_loss: 3.8925 - val_accuracy: 0.1284\n",
      "Epoch 15/50\n",
      "4514/4514 [==============================] - 308s 68ms/step - loss: 3.2538 - accuracy: 0.1966 - val_loss: 3.9755 - val_accuracy: 0.1336\n",
      "Epoch 16/50\n",
      "4514/4514 [==============================] - 289s 64ms/step - loss: 3.2402 - accuracy: 0.1998 - val_loss: 3.7901 - val_accuracy: 0.1370\n",
      "Epoch 17/50\n",
      "4514/4514 [==============================] - 327s 72ms/step - loss: 3.2329 - accuracy: 0.2000 - val_loss: 3.9015 - val_accuracy: 0.1268\n",
      "Epoch 18/50\n",
      "4514/4514 [==============================] - 333s 74ms/step - loss: 3.2350 - accuracy: 0.2017 - val_loss: 3.9089 - val_accuracy: 0.1331\n",
      "Epoch 19/50\n",
      "4514/4514 [==============================] - 329s 73ms/step - loss: 3.2248 - accuracy: 0.2031 - val_loss: 3.9837 - val_accuracy: 0.1170\n",
      "Epoch 20/50\n",
      "4514/4514 [==============================] - 327s 72ms/step - loss: 3.2206 - accuracy: 0.2042 - val_loss: 4.0087 - val_accuracy: 0.1179\n",
      "Epoch 21/50\n",
      "4514/4514 [==============================] - 300s 66ms/step - loss: 3.2142 - accuracy: 0.2022 - val_loss: 3.7848 - val_accuracy: 0.1390\n",
      "Epoch 22/50\n",
      "4514/4514 [==============================] - 298s 66ms/step - loss: 3.2118 - accuracy: 0.2034 - val_loss: 4.3433 - val_accuracy: 0.1047\n",
      "Epoch 23/50\n",
      "4514/4514 [==============================] - 317s 70ms/step - loss: 3.2020 - accuracy: 0.2064 - val_loss: 4.0170 - val_accuracy: 0.1241\n",
      "Epoch 24/50\n",
      "4514/4514 [==============================] - 304s 67ms/step - loss: 3.2100 - accuracy: 0.2037 - val_loss: 3.8627 - val_accuracy: 0.1327\n",
      "Epoch 25/50\n",
      "4514/4514 [==============================] - 301s 67ms/step - loss: 3.1982 - accuracy: 0.2066 - val_loss: 3.9077 - val_accuracy: 0.1313\n",
      "Epoch 26/50\n",
      "4514/4514 [==============================] - 303s 67ms/step - loss: 3.1933 - accuracy: 0.2071 - val_loss: 4.1385 - val_accuracy: 0.1242\n",
      "Epoch 27/50\n",
      "4514/4514 [==============================] - 300s 66ms/step - loss: 3.1975 - accuracy: 0.2062 - val_loss: 3.9020 - val_accuracy: 0.1354\n",
      "Epoch 28/50\n",
      "4514/4514 [==============================] - 310s 69ms/step - loss: 3.1957 - accuracy: 0.2069 - val_loss: 3.9476 - val_accuracy: 0.1199\n",
      "Epoch 29/50\n",
      "4514/4514 [==============================] - 321s 71ms/step - loss: 3.1926 - accuracy: 0.2073 - val_loss: 4.0163 - val_accuracy: 0.1273\n",
      "Epoch 30/50\n",
      "4514/4514 [==============================] - 332s 73ms/step - loss: 3.1853 - accuracy: 0.2073 - val_loss: 4.1378 - val_accuracy: 0.1145\n",
      "Epoch 31/50\n",
      "4514/4514 [==============================] - 331s 73ms/step - loss: 3.1807 - accuracy: 0.2069 - val_loss: 3.9359 - val_accuracy: 0.1328\n",
      "Epoch 32/50\n",
      "4514/4514 [==============================] - 334s 74ms/step - loss: 3.1830 - accuracy: 0.2104 - val_loss: 4.0422 - val_accuracy: 0.1194\n",
      "Epoch 33/50\n",
      "4514/4514 [==============================] - 306s 68ms/step - loss: 3.1759 - accuracy: 0.2089 - val_loss: 4.0181 - val_accuracy: 0.1285\n",
      "Epoch 34/50\n",
      "4514/4514 [==============================] - 285s 63ms/step - loss: 3.1821 - accuracy: 0.2055 - val_loss: 4.2949 - val_accuracy: 0.1257\n",
      "Epoch 35/50\n",
      "4514/4514 [==============================] - 287s 63ms/step - loss: 3.1880 - accuracy: 0.2052 - val_loss: 4.3060 - val_accuracy: 0.1207\n",
      "Epoch 36/50\n",
      "4514/4514 [==============================] - 310s 69ms/step - loss: 3.1741 - accuracy: 0.2103 - val_loss: 4.0785 - val_accuracy: 0.1225\n",
      "Epoch 37/50\n",
      "4514/4514 [==============================] - 356s 79ms/step - loss: 3.1702 - accuracy: 0.2124 - val_loss: 4.3114 - val_accuracy: 0.1125\n",
      "Epoch 38/50\n",
      "4514/4514 [==============================] - 334s 74ms/step - loss: 3.1741 - accuracy: 0.2081 - val_loss: 3.9549 - val_accuracy: 0.1333\n",
      "Epoch 39/50\n",
      "4514/4514 [==============================] - 354s 78ms/step - loss: 3.1640 - accuracy: 0.2091 - val_loss: 4.3448 - val_accuracy: 0.1274\n",
      "Epoch 40/50\n",
      "4514/4514 [==============================] - 351s 78ms/step - loss: 3.1647 - accuracy: 0.2073 - val_loss: 3.9429 - val_accuracy: 0.1336\n",
      "Epoch 41/50\n",
      "4514/4514 [==============================] - 351s 78ms/step - loss: 3.1744 - accuracy: 0.2101 - val_loss: 3.9886 - val_accuracy: 0.1331\n",
      "Epoch 42/50\n",
      "4514/4514 [==============================] - 349s 77ms/step - loss: 3.1638 - accuracy: 0.2110 - val_loss: 3.9793 - val_accuracy: 0.1377\n",
      "Epoch 43/50\n",
      "4514/4514 [==============================] - 321s 71ms/step - loss: 3.1583 - accuracy: 0.2109 - val_loss: 4.0909 - val_accuracy: 0.1250\n",
      "Epoch 44/50\n",
      "4514/4514 [==============================] - 319s 71ms/step - loss: 3.1591 - accuracy: 0.2108 - val_loss: 4.3046 - val_accuracy: 0.1191\n",
      "Epoch 45/50\n",
      "4514/4514 [==============================] - 304s 67ms/step - loss: 3.1593 - accuracy: 0.2113 - val_loss: 4.1452 - val_accuracy: 0.1339\n",
      "Epoch 46/50\n",
      "4514/4514 [==============================] - 314s 69ms/step - loss: 3.1576 - accuracy: 0.2117 - val_loss: 4.0072 - val_accuracy: 0.1404\n",
      "Epoch 47/50\n",
      "4514/4514 [==============================] - 303s 67ms/step - loss: 3.1579 - accuracy: 0.2100 - val_loss: 3.9061 - val_accuracy: 0.1433\n",
      "Epoch 48/50\n",
      "4514/4514 [==============================] - 312s 69ms/step - loss: 3.1578 - accuracy: 0.2141 - val_loss: 4.1193 - val_accuracy: 0.1291\n",
      "Epoch 49/50\n",
      "4514/4514 [==============================] - 317s 70ms/step - loss: 3.1508 - accuracy: 0.2133 - val_loss: 4.0239 - val_accuracy: 0.1284\n",
      "Epoch 50/50\n",
      "4514/4514 [==============================] - 318s 70ms/step - loss: 3.1491 - accuracy: 0.2136 - val_loss: 4.1983 - val_accuracy: 0.1351\n"
     ]
    }
   ],
   "source": [
    "classifier.fit(training_set,\n",
    "               steps_per_epoch=len(training_set),\n",
    "               epochs=50,\n",
    "               validation_data=test_set,\n",
    "               validation_steps=len(test_set))\n",
    "classifier.save('my_model.h5')"
   ]
  },
  {
   "cell_type": "markdown",
   "metadata": {},
   "source": [
    "## Making New Predictions"
   ]
  },
  {
   "cell_type": "code",
   "execution_count": 57,
   "metadata": {},
   "outputs": [
    {
     "name": "stdout",
     "output_type": "stream",
     "text": [
      "1/1 [==============================] - 0s 70ms/step\n"
     ]
    },
    {
     "data": {
      "text/plain": [
       "{'Bear': 0,\n",
       " 'Brown bear': 1,\n",
       " 'Bull': 2,\n",
       " 'Butterfly': 3,\n",
       " 'Camel': 4,\n",
       " 'Canary': 5,\n",
       " 'Caterpillar': 6,\n",
       " 'Cattle': 7,\n",
       " 'Centipede': 8,\n",
       " 'Cheetah': 9,\n",
       " 'Chicken': 10,\n",
       " 'Crab': 11,\n",
       " 'Crocodile': 12,\n",
       " 'Deer': 13,\n",
       " 'Duck': 14,\n",
       " 'Eagle': 15,\n",
       " 'Elephant': 16,\n",
       " 'Fish': 17,\n",
       " 'Fox': 18,\n",
       " 'Frog': 19,\n",
       " 'Giraffe': 20,\n",
       " 'Goat': 21,\n",
       " 'Goldfish': 22,\n",
       " 'Goose': 23,\n",
       " 'Hamster': 24,\n",
       " 'Harbor seal': 25,\n",
       " 'Hedgehog': 26,\n",
       " 'Hippopotamus': 27,\n",
       " 'Horse': 28,\n",
       " 'Jaguar': 29,\n",
       " 'Jellyfish': 30,\n",
       " 'Kangaroo': 31,\n",
       " 'Koala': 32,\n",
       " 'Ladybug': 33,\n",
       " 'Leopard': 34,\n",
       " 'Lion': 35,\n",
       " 'Lizard': 36,\n",
       " 'Lynx': 37,\n",
       " 'Magpie': 38,\n",
       " 'Monkey': 39,\n",
       " 'Moths and butterflies': 40,\n",
       " 'Mouse': 41,\n",
       " 'Mule': 42,\n",
       " 'Ostrich': 43,\n",
       " 'Otter': 44,\n",
       " 'Owl': 45,\n",
       " 'Panda': 46,\n",
       " 'Parrot': 47,\n",
       " 'Penguin': 48,\n",
       " 'Pig': 49,\n",
       " 'Polar bear': 50,\n",
       " 'Rabbit': 51,\n",
       " 'Raccoon': 52,\n",
       " 'Raven': 53,\n",
       " 'Red panda': 54,\n",
       " 'Rhinoceros': 55,\n",
       " 'Scorpion': 56,\n",
       " 'Sea lion': 57,\n",
       " 'Sea turtle': 58,\n",
       " 'Seahorse': 59,\n",
       " 'Shark': 60,\n",
       " 'Sheep': 61,\n",
       " 'Shrimp': 62,\n",
       " 'Snail': 63,\n",
       " 'Snake': 64,\n",
       " 'Sparrow': 65,\n",
       " 'Spider': 66,\n",
       " 'Squid': 67,\n",
       " 'Squirrel': 68,\n",
       " 'Starfish': 69,\n",
       " 'Swan': 70,\n",
       " 'Tick': 71,\n",
       " 'Tiger': 72,\n",
       " 'Tortoise': 73,\n",
       " 'Turkey': 74,\n",
       " 'Turtle': 75,\n",
       " 'Whale': 76,\n",
       " 'Woodpecker': 77,\n",
       " 'Worm': 78,\n",
       " 'Zebra': 79}"
      ]
     },
     "execution_count": 57,
     "metadata": {},
     "output_type": "execute_result"
    }
   ],
   "source": [
    "test_image = image.load_img('/home/whoisorioki/Desktop/GitHub/data-career_bootcamp/Week 8/animal dataset/test/Bear/0df78ee76bafd3a9.jpg', target_size=(64, 64))\n",
    "test_image = image.img_to_array(test_image)\n",
    "test_image = np.expand_dims(test_image, axis = 0)\n",
    "result = classifier.predict(test_image)\n",
    "result = np.floor(result)\n",
    "training_set.class_indices"
   ]
  },
  {
   "cell_type": "code",
   "execution_count": 56,
   "metadata": {},
   "outputs": [
    {
     "name": "stdout",
     "output_type": "stream",
     "text": [
      "None\n"
     ]
    }
   ],
   "source": [
    "if result[0][0] == 1:\n",
    "    prediction = 'Bear'\n",
    "elif result[0][1] == 1:\n",
    "    prediction = 'Brown bear'\n",
    "elif result[0][2] == 1:\n",
    "    prediction = 'Bull'\n",
    "elif result[0][3] == 1:\n",
    "    prediction = 'Butterfly'\n",
    "elif result[0][4] == 1:\n",
    "    prediction = 'Camel'\n",
    "elif result[0][5] == 1:\n",
    "    prediction = 'Canary'\n",
    "elif result[0][6] == 1:\n",
    "    prediction = 'Caterpillar'\n",
    "elif result[0][7] == 1:\n",
    "    prediction = 'Cattle'\n",
    "elif result[0][8] == 1:\n",
    "    prediction = 'Centipede'\n",
    "elif result[0][9] == 1:\n",
    "    prediction = 'Cheetah'\n",
    "elif result[0][10] == 1:\n",
    "    prediction = 'Chicken'\n",
    "elif result[0][11] == 1:\n",
    "    prediction = 'Crab'\n",
    "elif result[0][12] == 1:\n",
    "    prediction = 'Crocodile'\n",
    "elif result[0][13] == 1:\n",
    "    prediction = 'Deer'\n",
    "elif result[0][14] == 1:\n",
    "    prediction = 'Duck'\n",
    "elif result[0][15] == 1:\n",
    "    prediction = 'Eagle'\n",
    "elif result[0][16] == 1:\n",
    "    prediction = 'Elephant'\n",
    "elif result[0][17] == 1:\n",
    "    prediction = 'Fish'\n",
    "elif result[0][18] == 1:\n",
    "    prediction = 'Fox'\n",
    "elif result[0][19] == 1:\n",
    "    prediction = 'Frog'\n",
    "elif result[0][20] == 1:\n",
    "    prediction = 'Giraffe'\n",
    "elif result[0][21] == 1:\n",
    "    prediction = 'Goat'\n",
    "elif result[0][22] == 1:\n",
    "    prediction = 'Goldfish'\n",
    "elif result[0][23] == 1:\n",
    "    prediction = 'Goose'\n",
    "elif result[0][24] == 1:\n",
    "    prediction = 'Hamster'\n",
    "elif result[0][25] == 1:\n",
    "    prediction = 'Harbor seal'\n",
    "elif result[0][26] == 1:\n",
    "    prediction = 'Hedgehog'\n",
    "elif result[0][27] == 1:\n",
    "    prediction = 'Hippopotamus'\n",
    "elif result[0][28] == 1:\n",
    "    prediction = 'Horse'\n",
    "elif result[0][29] == 1:\n",
    "    prediction = 'Jaguar'\n",
    "elif result[0][30] == 1:\n",
    "    prediction = 'Jellyfish'\n",
    "elif result[0][31] == 1:\n",
    "    prediction = 'Kangaroo'\n",
    "elif result[0][32] == 1:\n",
    "    prediction = 'Koala'\n",
    "elif result[0][33] == 1:\n",
    "    prediction = 'Ladybug'\n",
    "elif result[0][34] == 1:\n",
    "    prediction = 'Leopard'\n",
    "elif result[0][35] == 1:\n",
    "    prediction = 'Lion'\n",
    "elif result[0][36] == 1:\n",
    "    prediction = 'Lizard'\n",
    "elif result[0][37] == 1:\n",
    "    prediction = 'Lynx'\n",
    "elif result[0][38] == 1:\n",
    "    prediction = 'Magpie'\n",
    "if result[0][39] == 1:\n",
    "    prediction = 'Monkey'\n",
    "elif result[0][40] == 1:\n",
    "    prediction = 'Moths and butterflies'\n",
    "elif result[0][41] == 1:\n",
    "    prediction = 'Mouse'\n",
    "elif result[0][42] == 1:\n",
    "    prediction = 'Mule'\n",
    "elif result[0][43] == 1:\n",
    "    prediction = 'Ostrich'\n",
    "elif result[0][44] == 1:\n",
    "    prediction = 'Otter'\n",
    "elif result[0][45] == 1:\n",
    "    prediction = 'Owl'\n",
    "elif result[0][46] == 1:\n",
    "    prediction = 'Panda'\n",
    "elif result[0][47] == 1:\n",
    "    prediction = 'Parrot'\n",
    "elif result[0][48] == 1:\n",
    "    prediction = 'Penguin'\n",
    "elif result[0][49] == 1:\n",
    "    prediction = 'Pig'\n",
    "elif result[0][50] == 1:\n",
    "    prediction = 'Polar bear'\n",
    "elif result[0][51] == 1:\n",
    "    prediction = 'Rabbit'\n",
    "elif result[0][52] == 1:\n",
    "    prediction = 'Raccoon'\n",
    "elif result[0][53] == 1:\n",
    "    prediction = 'Raven'\n",
    "elif result[0][54] == 1:\n",
    "    prediction = 'Red panda'\n",
    "elif result[0][55] == 1:\n",
    "    prediction = 'Rhinoceros'\n",
    "elif result[0][56] == 1:\n",
    "    prediction = 'Scorpion'\n",
    "elif result[0][57] == 1:\n",
    "    prediction = 'Sea lion'\n",
    "elif result[0][58] == 1:\n",
    "    prediction = 'Sea turtle'\n",
    "elif result[0][59] == 1:\n",
    "    prediction = 'Seahorse'\n",
    "elif result[0][60] == 1:\n",
    "    prediction = 'Shark'\n",
    "elif result[0][61] == 1:\n",
    "    prediction = 'Sheep'\n",
    "elif result[0][62] == 1:\n",
    "    prediction = 'Shrimp'\n",
    "elif result[0][63] == 1:\n",
    "    prediction = 'Snail'\n",
    "elif result[0][64] == 1:\n",
    "    prediction = 'Snake'\n",
    "elif result[0][65] == 1:\n",
    "    prediction = 'Sparrow'\n",
    "elif result[0][66] == 1:\n",
    "    prediction = 'Spider'\n",
    "elif result[0][67] == 1:\n",
    "    prediction = 'Squid'\n",
    "elif result[0][68] == 1:\n",
    "    prediction = 'Squirrel'\n",
    "elif result[0][69] == 1:\n",
    "    prediction = 'Starfish'\n",
    "elif result[0][70] == 1:\n",
    "    prediction = 'Swan'\n",
    "elif result[0][71] == 1:\n",
    "    prediction = 'Tick'\n",
    "elif result[0][72] == 1:\n",
    "    prediction = 'Tiger'\n",
    "elif result[0][73] == 1:\n",
    "    prediction = 'Tortoise'\n",
    "elif result[0][74] == 1:\n",
    "    prediction = 'Turkey'\n",
    "elif result[0][75] == 1:\n",
    "    prediction = 'Turtle'\n",
    "elif result[0][76] == 1:\n",
    "    prediction = 'Whale'\n",
    "elif result[0][77] == 1:\n",
    "    prediction = 'Woodpecker'\n",
    "elif result[0][78] == 1:\n",
    "    prediction = 'Worm'\n",
    "elif result[0][79] == 1:\n",
    "    prediction = 'Zebra'\n",
    "else:\n",
    "    prediction = 'None'\n",
    "\n",
    "print(prediction)\n"
   ]
  }
 ],
 "metadata": {
  "kernelspec": {
   "display_name": "boot",
   "language": "python",
   "name": "python3"
  },
  "language_info": {
   "codemirror_mode": {
    "name": "ipython",
    "version": 3
   },
   "file_extension": ".py",
   "mimetype": "text/x-python",
   "name": "python",
   "nbconvert_exporter": "python",
   "pygments_lexer": "ipython3",
   "version": "3.10.10"
  },
  "orig_nbformat": 4
 },
 "nbformat": 4,
 "nbformat_minor": 2
}
