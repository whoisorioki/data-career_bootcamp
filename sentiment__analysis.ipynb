{
  "nbformat": 4,
  "nbformat_minor": 0,
  "metadata": {
    "colab": {
      "provenance": [],
      "authorship_tag": "ABX9TyMii7XuhR1ZB6eIMIM6pNSR",
      "include_colab_link": true
    },
    "kernelspec": {
      "name": "python3",
      "display_name": "Python 3"
    },
    "language_info": {
      "name": "python"
    }
  },
  "cells": [
    {
      "cell_type": "markdown",
      "metadata": {
        "id": "view-in-github",
        "colab_type": "text"
      },
      "source": [
        "<a href=\"https://colab.research.google.com/github/whoisorioki/data-career_bootcamp/blob/main/sentiment__analysis.ipynb\" target=\"_parent\"><img src=\"https://colab.research.google.com/assets/colab-badge.svg\" alt=\"Open In Colab\"/></a>"
      ]
    },
    {
      "cell_type": "code",
      "execution_count": 1,
      "metadata": {
        "colab": {
          "base_uri": "https://localhost:8080/",
          "height": 374
        },
        "id": "RsxtYj1sKXXe",
        "outputId": "6eff54b6-b8d8-42f1-b087-e126ca7b1227"
      },
      "outputs": [
        {
          "output_type": "error",
          "ename": "ModuleNotFoundError",
          "evalue": "ignored",
          "traceback": [
            "\u001b[0;31m---------------------------------------------------------------------------\u001b[0m",
            "\u001b[0;31mModuleNotFoundError\u001b[0m                       Traceback (most recent call last)",
            "\u001b[0;32m<ipython-input-1-899c4f5800f2>\u001b[0m in \u001b[0;36m<module>\u001b[0;34m\u001b[0m\n\u001b[1;32m      3\u001b[0m \u001b[0;32mimport\u001b[0m \u001b[0mnltk\u001b[0m\u001b[0;34m\u001b[0m\u001b[0;34m\u001b[0m\u001b[0m\n\u001b[1;32m      4\u001b[0m \u001b[0;32mimport\u001b[0m \u001b[0mstring\u001b[0m\u001b[0;34m\u001b[0m\u001b[0;34m\u001b[0m\u001b[0m\n\u001b[0;32m----> 5\u001b[0;31m \u001b[0;32mimport\u001b[0m \u001b[0mpyforest\u001b[0m\u001b[0;34m\u001b[0m\u001b[0;34m\u001b[0m\u001b[0m\n\u001b[0m\u001b[1;32m      6\u001b[0m \u001b[0;32mfrom\u001b[0m \u001b[0mnltk\u001b[0m\u001b[0;34m.\u001b[0m\u001b[0mcorpus\u001b[0m \u001b[0;32mimport\u001b[0m \u001b[0mstopwords\u001b[0m\u001b[0;34m\u001b[0m\u001b[0;34m\u001b[0m\u001b[0m\n\u001b[1;32m      7\u001b[0m \u001b[0;32mfrom\u001b[0m \u001b[0mnltk\u001b[0m\u001b[0;34m.\u001b[0m\u001b[0mtokenize\u001b[0m \u001b[0;32mimport\u001b[0m \u001b[0mword_tokenize\u001b[0m\u001b[0;34m\u001b[0m\u001b[0;34m\u001b[0m\u001b[0m\n",
            "\u001b[0;31mModuleNotFoundError\u001b[0m: No module named 'pyforest'",
            "",
            "\u001b[0;31m---------------------------------------------------------------------------\u001b[0;32m\nNOTE: If your import is failing due to a missing package, you can\nmanually install dependencies using either !pip or !apt.\n\nTo view examples of installing some common dependencies, click the\n\"Open Examples\" button below.\n\u001b[0;31m---------------------------------------------------------------------------\u001b[0m\n"
          ],
          "errorDetails": {
            "actions": [
              {
                "action": "open_url",
                "actionText": "Open Examples",
                "url": "/notebooks/snippets/importing_libraries.ipynb"
              }
            ]
          }
        }
      ],
      "source": [
        "# Import libraries\n",
        "import re\n",
        "import nltk\n",
        "import string\n",
        "import pyforest\n",
        "from nltk.corpus import stopwords\n",
        "from nltk.tokenize import word_tokenize\n",
        "from sklearn.model_selection import train_test_split\n",
        "from sklearn.linear_model import LogisticRegression"
      ]
    },
    {
      "cell_type": "code",
      "source": [
        "# Read the CSV file\n",
        "columns  = [\"sentiment\", \"ID\", \"datetime\", \"query\", \"username\", \"text\"]\n",
        "df = pd.read_csv('sentiment_dataset.csv', delimiter=',', encoding = \"ISO-8859-1\", names = columns)\n",
        "df.head()"
      ],
      "metadata": {
        "id": "CsAM_dgZLddz"
      },
      "execution_count": null,
      "outputs": []
    },
    {
      "cell_type": "code",
      "source": [
        "# Extract sentiment and text column, they will be relevant in this analysis\n",
        "df = df[['sentiment','text']]\n",
        "df.head()"
      ],
      "metadata": {
        "id": "6_poAUzuRcVw"
      },
      "execution_count": null,
      "outputs": []
    },
    {
      "cell_type": "code",
      "source": [
        "# Fuction that performs cleaning using re library. \n",
        "# It removes uppercase, brackets, links, punctuation etc\n",
        "def cleaning(a):\n",
        "    a = str(a).lower()\n",
        "    a = re.sub('\\[.*?\\]', '', a)\n",
        "    a = re.sub('[%s]' % re.escape(string.punctuation), '', a)\n",
        "    a = re.sub('\\n', '', a)\n",
        "    a = re.sub('https?://\\S+|www\\.\\S+', '', a)\n",
        "    a = re.sub('<.*?>+', '', a)\n",
        "    a = re.sub('\\w*\\d\\w*', '', a)\n",
        "    return a\n",
        "\n",
        "df['text'] = df['text'].apply(cleaning)\n",
        "df.head()"
      ],
      "metadata": {
        "id": "_ifPK0G-Uzhm"
      },
      "execution_count": null,
      "outputs": []
    },
    {
      "cell_type": "code",
      "source": [
        "# Checking for balance\n",
        "df['sentiment'].value_counts()"
      ],
      "metadata": {
        "id": "uxvEarRpVtvC"
      },
      "execution_count": null,
      "outputs": []
    },
    {
      "cell_type": "code",
      "source": [
        "# Removing stop words i.e., the, is, and, or, in, this etc\n",
        "s_words = stopwords.words('english')\n",
        "\n",
        "def removing(text):\n",
        "    a = ' '.join(i for i in text.split(' ') if i not in s_words)\n",
        "    return a\n",
        "    \n",
        "df['text'] = df['text'].apply(removing)\n",
        "df.head()"
      ],
      "metadata": {
        "id": "Z90pOfsAXko1"
      },
      "execution_count": null,
      "outputs": []
    },
    {
      "cell_type": "code",
      "source": [
        "# Change 0 to negative and 4 to positive\n",
        "class_dict = {0:'negative', 4:'positive'}\n",
        "df['sentiment'] = df['sentiment'].apply(lambda x:  class_dict[x])\n",
        "df.head()"
      ],
      "metadata": {
        "id": "8gfTs0lDaTwH"
      },
      "execution_count": null,
      "outputs": []
    },
    {
      "cell_type": "code",
      "source": [
        "# Stemming words that have same meaning\n",
        "stemmer = nltk.SnowballStemmer(\"english\")\n",
        "\n",
        "def stemming(text):\n",
        "    text = ' '.join(stemmer.stem(i) for i in text.split(' '))\n",
        "    return text\n",
        "\n",
        "df['text'] = df['text'].apply(stemming)\n",
        "df.head()"
      ],
      "metadata": {
        "id": "DJdBJ-6obsjZ"
      },
      "execution_count": null,
      "outputs": []
    },
    {
      "cell_type": "code",
      "source": [
        "# Split the data to train data and test data\n",
        "X = df['text']\n",
        "y = df['sentiment']\n",
        "X_train, X_test, y_train, y_test = train_test_split(X, y, test_size=0.25, random_state=42)"
      ],
      "metadata": {
        "id": "Ra1-djeYe6i-"
      },
      "execution_count": null,
      "outputs": []
    },
    {
      "cell_type": "code",
      "source": [
        "# Using Logistic Regression\n",
        "clf = LogisticRegression(penalty=\"l2\", random_state=42, C=0.01)\n",
        "clf.fit(X_train, y_train)\n",
        "y_pred = clf.predict(X_test)\n",
        "\n",
        "print(\"Training Accuracy:\", clf.score(X_train, y_train))\n",
        "print(\"Testing Accuracy:\", clf.score(X_test, y_pred))"
      ],
      "metadata": {
        "id": "YzymzsE2fSUp"
      },
      "execution_count": null,
      "outputs": []
    }
  ]
}