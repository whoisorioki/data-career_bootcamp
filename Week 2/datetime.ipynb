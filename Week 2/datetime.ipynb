{
 "cells": [
  {
   "cell_type": "code",
   "execution_count": 1,
   "metadata": {},
   "outputs": [
    {
     "name": "stdout",
     "output_type": "stream",
     "text": [
      "Empty DataFrame\n",
      "Columns: [timestamp]\n",
      "Index: []\n"
     ]
    }
   ],
   "source": [
    "import pandas as pd\n",
    "\n",
    "# create sample dataframes\n",
    "df1 = pd.DataFrame({'timestamp': ['02.12.2019 11:18:26', '03.12.2019 12:12:12']})\n",
    "df2 = pd.DataFrame({'timestamp': ['04.12.2019 14:14:14', '05.12.2019 15:15:15']})\n",
    "\n",
    "# convert the timestamp column to datetime format\n",
    "df1['timestamp'] = pd.to_datetime(df1['timestamp'], format='%d.%m.%Y %H:%M:%S')\n",
    "df2['timestamp'] = pd.to_datetime(df2['timestamp'], format='%d.%m.%Y %H:%M:%S')\n",
    "\n",
    "# change the format of the timestamp column\n",
    "df1['timestamp'] = df1['timestamp'].dt.strftime('%d/%m/%Y %H:%M:%S')\n",
    "df2['timestamp'] = df2['timestamp'].dt.strftime('%d/%m/%Y %H:%M:%S')\n",
    "\n",
    "# merge the two dataframes on the 'timestamp' column\n",
    "merged_df = pd.merge(df1, df2, on='timestamp')\n"
   ]
  }
 ],
 "metadata": {
  "kernelspec": {
   "display_name": "Python 3",
   "language": "python",
   "name": "python3"
  },
  "language_info": {
   "codemirror_mode": {
    "name": "ipython",
    "version": 3
   },
   "file_extension": ".py",
   "mimetype": "text/x-python",
   "name": "python",
   "nbconvert_exporter": "python",
   "pygments_lexer": "ipython3",
   "version": "3.11.2"
  },
  "orig_nbformat": 4
 },
 "nbformat": 4,
 "nbformat_minor": 2
}
