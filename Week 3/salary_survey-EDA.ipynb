{
 "cells": [
  {
   "attachments": {},
   "cell_type": "markdown",
   "metadata": {},
   "source": [
    "#### Importing libraries"
   ]
  },
  {
   "cell_type": "code",
   "execution_count": 74,
   "metadata": {},
   "outputs": [],
   "source": [
    "# Import pyforest library, it contains: pandas, matplotlib, seaborn, numpy, sklearn...\n",
    "import pyforest\n",
    "import pandas as pd\n",
    "import seaborn as sns\n",
    "import matplotlib.pyplot as plt"
   ]
  },
  {
   "attachments": {},
   "cell_type": "markdown",
   "metadata": {},
   "source": [
    "#### Loading Data"
   ]
  },
  {
   "cell_type": "code",
   "execution_count": 75,
   "metadata": {},
   "outputs": [],
   "source": [
    "# Loading the data from all the csv that we want to merge\n",
    "df1 = pd.read_csv('csv/IT Salary Survey EU 2018.csv', sep=',')\n",
    "df2 = pd.read_csv('csv/IT Salary Survey EU 2019.csv', sep=',')\n",
    "df3 = pd.read_csv('csv/IT Salary Survey EU 2020.csv', sep=',')"
   ]
  },
  {
   "cell_type": "code",
   "execution_count": 76,
   "metadata": {},
   "outputs": [
    {
     "data": {
      "text/plain": [
       "Index(['Timestamp', 'Age', 'Gender', 'City', 'Position', 'Years of experience',\n",
       "       'Your level', 'Current Salary', 'Salary one year ago',\n",
       "       'Salary two years ago', 'Are you getting any Stock Options?',\n",
       "       'Main language at work', 'Company size', 'Company type'],\n",
       "      dtype='object')"
      ]
     },
     "execution_count": 76,
     "metadata": {},
     "output_type": "execute_result"
    }
   ],
   "source": [
    "# Defining the columns in Dataframe 1\n",
    "df1.columns"
   ]
  },
  {
   "attachments": {},
   "cell_type": "markdown",
   "metadata": {},
   "source": [
    "#### Data cleaning"
   ]
  },
  {
   "cell_type": "code",
   "execution_count": 77,
   "metadata": {},
   "outputs": [
    {
     "data": {
      "text/html": [
       "<div>\n",
       "<style scoped>\n",
       "    .dataframe tbody tr th:only-of-type {\n",
       "        vertical-align: middle;\n",
       "    }\n",
       "\n",
       "    .dataframe tbody tr th {\n",
       "        vertical-align: top;\n",
       "    }\n",
       "\n",
       "    .dataframe thead th {\n",
       "        text-align: right;\n",
       "    }\n",
       "</style>\n",
       "<table border=\"1\" class=\"dataframe\">\n",
       "  <thead>\n",
       "    <tr style=\"text-align: right;\">\n",
       "      <th></th>\n",
       "      <th>Timestamp</th>\n",
       "      <th>Age</th>\n",
       "      <th>Gender</th>\n",
       "      <th>City</th>\n",
       "      <th>Position</th>\n",
       "      <th>Years of experience</th>\n",
       "      <th>Your level</th>\n",
       "      <th>Current Salary</th>\n",
       "      <th>Salary one year ago</th>\n",
       "      <th>Main language at work</th>\n",
       "    </tr>\n",
       "  </thead>\n",
       "  <tbody>\n",
       "    <tr>\n",
       "      <th>0</th>\n",
       "      <td>14/12/2018 12:41:33</td>\n",
       "      <td>43.0</td>\n",
       "      <td>M</td>\n",
       "      <td>München</td>\n",
       "      <td>QA Ingenieur</td>\n",
       "      <td>11.0</td>\n",
       "      <td>Senior</td>\n",
       "      <td>77000.0</td>\n",
       "      <td>76200.0</td>\n",
       "      <td>Deutsch</td>\n",
       "    </tr>\n",
       "    <tr>\n",
       "      <th>1</th>\n",
       "      <td>14/12/2018 12:42:09</td>\n",
       "      <td>33.0</td>\n",
       "      <td>F</td>\n",
       "      <td>München</td>\n",
       "      <td>Senior PHP Magento developer</td>\n",
       "      <td>8.0</td>\n",
       "      <td>Senior</td>\n",
       "      <td>65000.0</td>\n",
       "      <td>55000.0</td>\n",
       "      <td>Deutsch</td>\n",
       "    </tr>\n",
       "    <tr>\n",
       "      <th>2</th>\n",
       "      <td>14/12/2018 12:47:36</td>\n",
       "      <td>32.0</td>\n",
       "      <td>M</td>\n",
       "      <td>München</td>\n",
       "      <td>Software Engineer</td>\n",
       "      <td>10.0</td>\n",
       "      <td>Senior</td>\n",
       "      <td>88000.0</td>\n",
       "      <td>73000.0</td>\n",
       "      <td>Deutsch</td>\n",
       "    </tr>\n",
       "    <tr>\n",
       "      <th>3</th>\n",
       "      <td>14/12/2018 12:50:15</td>\n",
       "      <td>25.0</td>\n",
       "      <td>M</td>\n",
       "      <td>München</td>\n",
       "      <td>Senior Frontend Developer</td>\n",
       "      <td>6.0</td>\n",
       "      <td>Senior</td>\n",
       "      <td>78000.0</td>\n",
       "      <td>55000.0</td>\n",
       "      <td>English</td>\n",
       "    </tr>\n",
       "    <tr>\n",
       "      <th>4</th>\n",
       "      <td>14/12/2018 12:50:31</td>\n",
       "      <td>39.0</td>\n",
       "      <td>M</td>\n",
       "      <td>München</td>\n",
       "      <td>UX Designer</td>\n",
       "      <td>10.0</td>\n",
       "      <td>Senior</td>\n",
       "      <td>69000.0</td>\n",
       "      <td>60000.0</td>\n",
       "      <td>English</td>\n",
       "    </tr>\n",
       "  </tbody>\n",
       "</table>\n",
       "</div>"
      ],
      "text/plain": [
       "             Timestamp   Age Gender     City                       Position  \\\n",
       "0  14/12/2018 12:41:33  43.0      M  München                   QA Ingenieur   \n",
       "1  14/12/2018 12:42:09  33.0      F  München  Senior PHP Magento developer    \n",
       "2  14/12/2018 12:47:36  32.0      M  München              Software Engineer   \n",
       "3  14/12/2018 12:50:15  25.0      M  München      Senior Frontend Developer   \n",
       "4  14/12/2018 12:50:31  39.0      M  München                    UX Designer   \n",
       "\n",
       "   Years of experience Your level  Current Salary  Salary one year ago  \\\n",
       "0                 11.0     Senior         77000.0              76200.0   \n",
       "1                  8.0     Senior         65000.0              55000.0   \n",
       "2                 10.0     Senior         88000.0              73000.0   \n",
       "3                  6.0     Senior         78000.0              55000.0   \n",
       "4                 10.0     Senior         69000.0              60000.0   \n",
       "\n",
       "  Main language at work  \n",
       "0               Deutsch  \n",
       "1               Deutsch  \n",
       "2               Deutsch  \n",
       "3               English  \n",
       "4               English  "
      ]
     },
     "execution_count": 77,
     "metadata": {},
     "output_type": "execute_result"
    }
   ],
   "source": [
    "# Dropping some columns that seem unnecessary in the data analysis\n",
    "df1 = df1.drop([\"Salary two years ago\",\"Are you getting any Stock Options?\", \"Company size\", \"Company type\"], axis=1)\n",
    "df1.head()"
   ]
  },
  {
   "cell_type": "code",
   "execution_count": 78,
   "metadata": {},
   "outputs": [
    {
     "data": {
      "text/html": [
       "<div>\n",
       "<style scoped>\n",
       "    .dataframe tbody tr th:only-of-type {\n",
       "        vertical-align: middle;\n",
       "    }\n",
       "\n",
       "    .dataframe tbody tr th {\n",
       "        vertical-align: top;\n",
       "    }\n",
       "\n",
       "    .dataframe thead th {\n",
       "        text-align: right;\n",
       "    }\n",
       "</style>\n",
       "<table border=\"1\" class=\"dataframe\">\n",
       "  <thead>\n",
       "    <tr style=\"text-align: right;\">\n",
       "      <th></th>\n",
       "      <th>Timestamp</th>\n",
       "      <th>Age</th>\n",
       "      <th>Gender</th>\n",
       "      <th>City</th>\n",
       "      <th>Position</th>\n",
       "      <th>YOE</th>\n",
       "      <th>Level</th>\n",
       "      <th>Salary</th>\n",
       "      <th>SOYA</th>\n",
       "      <th>Language</th>\n",
       "    </tr>\n",
       "  </thead>\n",
       "  <tbody>\n",
       "    <tr>\n",
       "      <th>0</th>\n",
       "      <td>14/12/2018 12:41:33</td>\n",
       "      <td>43.0</td>\n",
       "      <td>M</td>\n",
       "      <td>München</td>\n",
       "      <td>QA Ingenieur</td>\n",
       "      <td>11.0</td>\n",
       "      <td>Senior</td>\n",
       "      <td>77000.0</td>\n",
       "      <td>76200.0</td>\n",
       "      <td>Deutsch</td>\n",
       "    </tr>\n",
       "    <tr>\n",
       "      <th>1</th>\n",
       "      <td>14/12/2018 12:42:09</td>\n",
       "      <td>33.0</td>\n",
       "      <td>F</td>\n",
       "      <td>München</td>\n",
       "      <td>Senior PHP Magento developer</td>\n",
       "      <td>8.0</td>\n",
       "      <td>Senior</td>\n",
       "      <td>65000.0</td>\n",
       "      <td>55000.0</td>\n",
       "      <td>Deutsch</td>\n",
       "    </tr>\n",
       "    <tr>\n",
       "      <th>2</th>\n",
       "      <td>14/12/2018 12:47:36</td>\n",
       "      <td>32.0</td>\n",
       "      <td>M</td>\n",
       "      <td>München</td>\n",
       "      <td>Software Engineer</td>\n",
       "      <td>10.0</td>\n",
       "      <td>Senior</td>\n",
       "      <td>88000.0</td>\n",
       "      <td>73000.0</td>\n",
       "      <td>Deutsch</td>\n",
       "    </tr>\n",
       "    <tr>\n",
       "      <th>3</th>\n",
       "      <td>14/12/2018 12:50:15</td>\n",
       "      <td>25.0</td>\n",
       "      <td>M</td>\n",
       "      <td>München</td>\n",
       "      <td>Senior Frontend Developer</td>\n",
       "      <td>6.0</td>\n",
       "      <td>Senior</td>\n",
       "      <td>78000.0</td>\n",
       "      <td>55000.0</td>\n",
       "      <td>English</td>\n",
       "    </tr>\n",
       "    <tr>\n",
       "      <th>4</th>\n",
       "      <td>14/12/2018 12:50:31</td>\n",
       "      <td>39.0</td>\n",
       "      <td>M</td>\n",
       "      <td>München</td>\n",
       "      <td>UX Designer</td>\n",
       "      <td>10.0</td>\n",
       "      <td>Senior</td>\n",
       "      <td>69000.0</td>\n",
       "      <td>60000.0</td>\n",
       "      <td>English</td>\n",
       "    </tr>\n",
       "  </tbody>\n",
       "</table>\n",
       "</div>"
      ],
      "text/plain": [
       "             Timestamp   Age Gender     City                       Position  \\\n",
       "0  14/12/2018 12:41:33  43.0      M  München                   QA Ingenieur   \n",
       "1  14/12/2018 12:42:09  33.0      F  München  Senior PHP Magento developer    \n",
       "2  14/12/2018 12:47:36  32.0      M  München              Software Engineer   \n",
       "3  14/12/2018 12:50:15  25.0      M  München      Senior Frontend Developer   \n",
       "4  14/12/2018 12:50:31  39.0      M  München                    UX Designer   \n",
       "\n",
       "    YOE   Level   Salary     SOYA Language  \n",
       "0  11.0  Senior  77000.0  76200.0  Deutsch  \n",
       "1   8.0  Senior  65000.0  55000.0  Deutsch  \n",
       "2  10.0  Senior  88000.0  73000.0  Deutsch  \n",
       "3   6.0  Senior  78000.0  55000.0  English  \n",
       "4  10.0  Senior  69000.0  60000.0  English  "
      ]
     },
     "execution_count": 78,
     "metadata": {},
     "output_type": "execute_result"
    }
   ],
   "source": [
    "# Rename the columns to a shorter version and which will be common to all the othr DataFrames\n",
    "df1 = df1.rename(columns={\"Years of experience\": \"YOE\", \"Your level\": \"Level\", \"Current Salary\": \"Salary\", \"Salary one year ago\": \"SOYA\", \"Main language at work\": \"Language\"})\n",
    "df1.head()"
   ]
  },
  {
   "cell_type": "code",
   "execution_count": 79,
   "metadata": {},
   "outputs": [
    {
     "data": {
      "text/plain": [
       "Index(['Zeitstempel', 'Age', 'Gender', 'City', 'Seniority level',\n",
       "       'Position (without seniority)', 'Years of experience',\n",
       "       'Your main technology / programming language',\n",
       "       'Yearly brutto salary (without bonus and stocks)', 'Yearly bonus',\n",
       "       'Yearly stocks',\n",
       "       'Yearly brutto salary (without bonus and stocks) one year ago. Only answer if staying in same country',\n",
       "       'Yearly bonus one year ago. Only answer if staying in same country',\n",
       "       'Yearly stocks one year ago. Only answer if staying in same country',\n",
       "       'Number of vacation days', 'Number of home office days per month',\n",
       "       'Main language at work', 'Company name ', 'Company size',\n",
       "       'Company type', 'Сontract duration', 'Company business sector', '0'],\n",
       "      dtype='object')"
      ]
     },
     "execution_count": 79,
     "metadata": {},
     "output_type": "execute_result"
    }
   ],
   "source": [
    "# Defining the columns in Dataframe 2\n",
    "df2.columns"
   ]
  },
  {
   "cell_type": "code",
   "execution_count": 80,
   "metadata": {},
   "outputs": [
    {
     "data": {
      "text/plain": [
       "Index(['Zeitstempel', 'Age', 'Gender', 'City', 'Seniority level',\n",
       "       'Position (without seniority)', 'Years of experience',\n",
       "       'Yearly brutto salary (without bonus and stocks)',\n",
       "       'Yearly brutto salary (without bonus and stocks) one year ago. Only answer if staying in same country',\n",
       "       'Main language at work'],\n",
       "      dtype='object')"
      ]
     },
     "execution_count": 80,
     "metadata": {},
     "output_type": "execute_result"
    }
   ],
   "source": [
    "# Dropping irrelevant columns\n",
    "df2 = df2.drop(['Your main technology / programming language', 'Yearly bonus', 'Yearly stocks', 'Yearly bonus one year ago. Only answer if staying in same country', 'Yearly stocks one year ago. Only answer if staying in same country', 'Number of vacation days', 'Number of home office days per month', 'Company name ', 'Company size', 'Company type', 'Сontract duration', 'Company business sector', '0'], axis=1)\n",
    "df2.columns"
   ]
  },
  {
   "cell_type": "code",
   "execution_count": 81,
   "metadata": {},
   "outputs": [
    {
     "data": {
      "text/html": [
       "<div>\n",
       "<style scoped>\n",
       "    .dataframe tbody tr th:only-of-type {\n",
       "        vertical-align: middle;\n",
       "    }\n",
       "\n",
       "    .dataframe tbody tr th {\n",
       "        vertical-align: top;\n",
       "    }\n",
       "\n",
       "    .dataframe thead th {\n",
       "        text-align: right;\n",
       "    }\n",
       "</style>\n",
       "<table border=\"1\" class=\"dataframe\">\n",
       "  <thead>\n",
       "    <tr style=\"text-align: right;\">\n",
       "      <th></th>\n",
       "      <th>Timestamp</th>\n",
       "      <th>Age</th>\n",
       "      <th>Gender</th>\n",
       "      <th>City</th>\n",
       "      <th>Level</th>\n",
       "      <th>Position</th>\n",
       "      <th>YOE</th>\n",
       "      <th>Salary</th>\n",
       "      <th>SOYA</th>\n",
       "      <th>Language</th>\n",
       "    </tr>\n",
       "  </thead>\n",
       "  <tbody>\n",
       "    <tr>\n",
       "      <th>0</th>\n",
       "      <td>02.12.2019 11:18:26</td>\n",
       "      <td>33.0</td>\n",
       "      <td>Male</td>\n",
       "      <td>Berlin</td>\n",
       "      <td>Senior</td>\n",
       "      <td>Fullstack Developer</td>\n",
       "      <td>13</td>\n",
       "      <td>64000.0</td>\n",
       "      <td>58000.0</td>\n",
       "      <td>English</td>\n",
       "    </tr>\n",
       "    <tr>\n",
       "      <th>1</th>\n",
       "      <td>02.12.2019 11:18:35</td>\n",
       "      <td>29.0</td>\n",
       "      <td>Male</td>\n",
       "      <td>Berlin</td>\n",
       "      <td>Middle</td>\n",
       "      <td>Backend Developer</td>\n",
       "      <td>3</td>\n",
       "      <td>55000.0</td>\n",
       "      <td>55000.0</td>\n",
       "      <td>English</td>\n",
       "    </tr>\n",
       "    <tr>\n",
       "      <th>2</th>\n",
       "      <td>02.12.2019 11:18:56</td>\n",
       "      <td>NaN</td>\n",
       "      <td>Male</td>\n",
       "      <td>Berlin</td>\n",
       "      <td>Middle</td>\n",
       "      <td>Mobile Developer</td>\n",
       "      <td>4</td>\n",
       "      <td>70000.0</td>\n",
       "      <td>55000.0</td>\n",
       "      <td>English</td>\n",
       "    </tr>\n",
       "    <tr>\n",
       "      <th>3</th>\n",
       "      <td>02.12.2019 11:19:08</td>\n",
       "      <td>30.0</td>\n",
       "      <td>Male</td>\n",
       "      <td>Berlin</td>\n",
       "      <td>Senior</td>\n",
       "      <td>Backend Developer</td>\n",
       "      <td>6</td>\n",
       "      <td>63000.0</td>\n",
       "      <td>NaN</td>\n",
       "      <td>English</td>\n",
       "    </tr>\n",
       "    <tr>\n",
       "      <th>4</th>\n",
       "      <td>02.12.2019 11:19:37</td>\n",
       "      <td>32.0</td>\n",
       "      <td>Male</td>\n",
       "      <td>Berlin</td>\n",
       "      <td>Senior</td>\n",
       "      <td>Embedded Developer</td>\n",
       "      <td>10</td>\n",
       "      <td>66000.0</td>\n",
       "      <td>56000.0</td>\n",
       "      <td>English</td>\n",
       "    </tr>\n",
       "  </tbody>\n",
       "</table>\n",
       "</div>"
      ],
      "text/plain": [
       "             Timestamp   Age Gender    City   Level             Position  YOE  \\\n",
       "0  02.12.2019 11:18:26  33.0   Male  Berlin  Senior  Fullstack Developer   13   \n",
       "1  02.12.2019 11:18:35  29.0   Male  Berlin  Middle    Backend Developer    3   \n",
       "2  02.12.2019 11:18:56   NaN   Male  Berlin  Middle     Mobile Developer    4   \n",
       "3  02.12.2019 11:19:08  30.0   Male  Berlin  Senior    Backend Developer    6   \n",
       "4  02.12.2019 11:19:37  32.0   Male  Berlin  Senior   Embedded Developer   10   \n",
       "\n",
       "    Salary     SOYA Language  \n",
       "0  64000.0  58000.0  English  \n",
       "1  55000.0  55000.0  English  \n",
       "2  70000.0  55000.0  English  \n",
       "3  63000.0      NaN  English  \n",
       "4  66000.0  56000.0  English  "
      ]
     },
     "execution_count": 81,
     "metadata": {},
     "output_type": "execute_result"
    }
   ],
   "source": [
    "# Renaming the dataframe to as the Dataframe 1\n",
    "df2 = df2.rename(columns={\"Zeitstempel\": \"Timestamp\", \"Position (without seniority)\": \"Position\", \"Seniority level\": \"Level\", \"Years of experience\": \"YOE\", \"Yearly brutto salary (without bonus and stocks)\": \"Salary\", \"Yearly brutto salary (without bonus and stocks) one year ago. Only answer if staying in same country\": \"SOYA\", \"Main language at work\": \"Language\"})\n",
    "df2.head()"
   ]
  },
  {
   "cell_type": "code",
   "execution_count": 82,
   "metadata": {},
   "outputs": [
    {
     "data": {
      "text/plain": [
       "Index(['Timestamp', 'Age', 'Gender', 'City', 'Position ',\n",
       "       'Total years of experience', 'Years of experience in Germany',\n",
       "       'Seniority level', 'Your main technology / programming language',\n",
       "       'Other technologies/programming languages you use often',\n",
       "       'Yearly brutto salary (without bonus and stocks) in EUR',\n",
       "       'Yearly bonus + stocks in EUR',\n",
       "       'Annual brutto salary (without bonus and stocks) one year ago. Only answer if staying in the same country',\n",
       "       'Annual bonus+stocks one year ago. Only answer if staying in same country',\n",
       "       'Number of vacation days', 'Employment status', 'Сontract duration',\n",
       "       'Main language at work', 'Company size', 'Company type',\n",
       "       'Have you lost your job due to the coronavirus outbreak?',\n",
       "       'Have you been forced to have a shorter working week (Kurzarbeit)? If yes, how many hours per week',\n",
       "       'Have you received additional monetary support from your employer due to Work From Home? If yes, how much in 2020 in EUR'],\n",
       "      dtype='object')"
      ]
     },
     "execution_count": 82,
     "metadata": {},
     "output_type": "execute_result"
    }
   ],
   "source": [
    "# Defining the columns in Dataframe 3\n",
    "df3.columns"
   ]
  },
  {
   "cell_type": "code",
   "execution_count": 83,
   "metadata": {},
   "outputs": [
    {
     "data": {
      "text/plain": [
       "Index(['Timestamp', 'Age', 'Gender', 'City', 'Position ',\n",
       "       'Total years of experience', 'Seniority level',\n",
       "       'Yearly brutto salary (without bonus and stocks) in EUR',\n",
       "       'Annual brutto salary (without bonus and stocks) one year ago. Only answer if staying in the same country',\n",
       "       'Main language at work'],\n",
       "      dtype='object')"
      ]
     },
     "execution_count": 83,
     "metadata": {},
     "output_type": "execute_result"
    }
   ],
   "source": [
    "# Dropping the irrelevant columns\n",
    "df3 = df3.drop(['Years of experience in Germany', 'Your main technology / programming language', 'Other technologies/programming languages you use often', 'Yearly bonus + stocks in EUR', 'Annual bonus+stocks one year ago. Only answer if staying in same country', 'Number of vacation days', 'Employment status', 'Сontract duration', 'Company size', 'Company type', 'Have you lost your job due to the coronavirus outbreak?', 'Have you been forced to have a shorter working week (Kurzarbeit)? If yes, how many hours per week','Have you received additional monetary support from your employer due to Work From Home? If yes, how much in 2020 in EUR'], axis=1)\n",
    "df3.columns"
   ]
  },
  {
   "cell_type": "code",
   "execution_count": 84,
   "metadata": {},
   "outputs": [
    {
     "data": {
      "text/html": [
       "<div>\n",
       "<style scoped>\n",
       "    .dataframe tbody tr th:only-of-type {\n",
       "        vertical-align: middle;\n",
       "    }\n",
       "\n",
       "    .dataframe tbody tr th {\n",
       "        vertical-align: top;\n",
       "    }\n",
       "\n",
       "    .dataframe thead th {\n",
       "        text-align: right;\n",
       "    }\n",
       "</style>\n",
       "<table border=\"1\" class=\"dataframe\">\n",
       "  <thead>\n",
       "    <tr style=\"text-align: right;\">\n",
       "      <th></th>\n",
       "      <th>Timestamp</th>\n",
       "      <th>Age</th>\n",
       "      <th>Gender</th>\n",
       "      <th>City</th>\n",
       "      <th>Position</th>\n",
       "      <th>YOE</th>\n",
       "      <th>Level</th>\n",
       "      <th>Salary</th>\n",
       "      <th>SOYA</th>\n",
       "      <th>Language</th>\n",
       "    </tr>\n",
       "  </thead>\n",
       "  <tbody>\n",
       "    <tr>\n",
       "      <th>0</th>\n",
       "      <td>24/11/2020 11:14:15</td>\n",
       "      <td>26.0</td>\n",
       "      <td>Male</td>\n",
       "      <td>Munich</td>\n",
       "      <td>Software Engineer</td>\n",
       "      <td>5</td>\n",
       "      <td>Senior</td>\n",
       "      <td>80000.0</td>\n",
       "      <td>75000.0</td>\n",
       "      <td>English</td>\n",
       "    </tr>\n",
       "    <tr>\n",
       "      <th>1</th>\n",
       "      <td>24/11/2020 11:14:16</td>\n",
       "      <td>26.0</td>\n",
       "      <td>Male</td>\n",
       "      <td>Berlin</td>\n",
       "      <td>Backend Developer</td>\n",
       "      <td>7</td>\n",
       "      <td>Senior</td>\n",
       "      <td>80000.0</td>\n",
       "      <td>82000.0</td>\n",
       "      <td>English</td>\n",
       "    </tr>\n",
       "    <tr>\n",
       "      <th>2</th>\n",
       "      <td>24/11/2020 11:14:21</td>\n",
       "      <td>29.0</td>\n",
       "      <td>Male</td>\n",
       "      <td>Berlin</td>\n",
       "      <td>Software Engineer</td>\n",
       "      <td>12</td>\n",
       "      <td>Lead</td>\n",
       "      <td>120000.0</td>\n",
       "      <td>100000.0</td>\n",
       "      <td>English</td>\n",
       "    </tr>\n",
       "    <tr>\n",
       "      <th>3</th>\n",
       "      <td>24/11/2020 11:15:24</td>\n",
       "      <td>28.0</td>\n",
       "      <td>Male</td>\n",
       "      <td>Berlin</td>\n",
       "      <td>Frontend Developer</td>\n",
       "      <td>4</td>\n",
       "      <td>Junior</td>\n",
       "      <td>54000.0</td>\n",
       "      <td>NaN</td>\n",
       "      <td>English</td>\n",
       "    </tr>\n",
       "    <tr>\n",
       "      <th>4</th>\n",
       "      <td>24/11/2020 11:15:46</td>\n",
       "      <td>37.0</td>\n",
       "      <td>Male</td>\n",
       "      <td>Berlin</td>\n",
       "      <td>Backend Developer</td>\n",
       "      <td>17</td>\n",
       "      <td>Senior</td>\n",
       "      <td>62000.0</td>\n",
       "      <td>62000.0</td>\n",
       "      <td>English</td>\n",
       "    </tr>\n",
       "  </tbody>\n",
       "</table>\n",
       "</div>"
      ],
      "text/plain": [
       "             Timestamp   Age Gender    City            Position YOE   Level  \\\n",
       "0  24/11/2020 11:14:15  26.0   Male  Munich   Software Engineer   5  Senior   \n",
       "1  24/11/2020 11:14:16  26.0   Male  Berlin   Backend Developer   7  Senior   \n",
       "2  24/11/2020 11:14:21  29.0   Male  Berlin   Software Engineer  12    Lead   \n",
       "3  24/11/2020 11:15:24  28.0   Male  Berlin  Frontend Developer   4  Junior   \n",
       "4  24/11/2020 11:15:46  37.0   Male  Berlin   Backend Developer  17  Senior   \n",
       "\n",
       "     Salary      SOYA Language  \n",
       "0   80000.0   75000.0  English  \n",
       "1   80000.0   82000.0  English  \n",
       "2  120000.0  100000.0  English  \n",
       "3   54000.0       NaN  English  \n",
       "4   62000.0   62000.0  English  "
      ]
     },
     "execution_count": 84,
     "metadata": {},
     "output_type": "execute_result"
    }
   ],
   "source": [
    "# Renaming the dataframe to as the Dataframe 1 and 2\n",
    "df3 = df3.rename(columns={\"Position \": \"Position\", \"Total years of experience\": \"YOE\", \"Seniority level\":\"Level\", \"Yearly brutto salary (without bonus and stocks) in EUR\": \"Salary\", \"Annual brutto salary (without bonus and stocks) one year ago. Only answer if staying in the same country\":\"SOYA\", \"Main language at work\": \"Language\"})\n",
    "df3.head()"
   ]
  },
  {
   "cell_type": "code",
   "execution_count": 85,
   "metadata": {},
   "outputs": [
    {
     "data": {
      "text/html": [
       "<div>\n",
       "<style scoped>\n",
       "    .dataframe tbody tr th:only-of-type {\n",
       "        vertical-align: middle;\n",
       "    }\n",
       "\n",
       "    .dataframe tbody tr th {\n",
       "        vertical-align: top;\n",
       "    }\n",
       "\n",
       "    .dataframe thead th {\n",
       "        text-align: right;\n",
       "    }\n",
       "</style>\n",
       "<table border=\"1\" class=\"dataframe\">\n",
       "  <thead>\n",
       "    <tr style=\"text-align: right;\">\n",
       "      <th></th>\n",
       "      <th>Timestamp</th>\n",
       "      <th>Age</th>\n",
       "      <th>Gender</th>\n",
       "      <th>City</th>\n",
       "      <th>Level</th>\n",
       "      <th>Position</th>\n",
       "      <th>YOE</th>\n",
       "      <th>Salary</th>\n",
       "      <th>SOYA</th>\n",
       "      <th>Language</th>\n",
       "    </tr>\n",
       "  </thead>\n",
       "  <tbody>\n",
       "    <tr>\n",
       "      <th>0</th>\n",
       "      <td>02/12/2019 11:18:26</td>\n",
       "      <td>33.0</td>\n",
       "      <td>Male</td>\n",
       "      <td>Berlin</td>\n",
       "      <td>Senior</td>\n",
       "      <td>Fullstack Developer</td>\n",
       "      <td>13</td>\n",
       "      <td>64000.0</td>\n",
       "      <td>58000.0</td>\n",
       "      <td>English</td>\n",
       "    </tr>\n",
       "    <tr>\n",
       "      <th>1</th>\n",
       "      <td>02/12/2019 11:18:35</td>\n",
       "      <td>29.0</td>\n",
       "      <td>Male</td>\n",
       "      <td>Berlin</td>\n",
       "      <td>Middle</td>\n",
       "      <td>Backend Developer</td>\n",
       "      <td>3</td>\n",
       "      <td>55000.0</td>\n",
       "      <td>55000.0</td>\n",
       "      <td>English</td>\n",
       "    </tr>\n",
       "    <tr>\n",
       "      <th>2</th>\n",
       "      <td>02/12/2019 11:18:56</td>\n",
       "      <td>NaN</td>\n",
       "      <td>Male</td>\n",
       "      <td>Berlin</td>\n",
       "      <td>Middle</td>\n",
       "      <td>Mobile Developer</td>\n",
       "      <td>4</td>\n",
       "      <td>70000.0</td>\n",
       "      <td>55000.0</td>\n",
       "      <td>English</td>\n",
       "    </tr>\n",
       "    <tr>\n",
       "      <th>3</th>\n",
       "      <td>02/12/2019 11:19:08</td>\n",
       "      <td>30.0</td>\n",
       "      <td>Male</td>\n",
       "      <td>Berlin</td>\n",
       "      <td>Senior</td>\n",
       "      <td>Backend Developer</td>\n",
       "      <td>6</td>\n",
       "      <td>63000.0</td>\n",
       "      <td>NaN</td>\n",
       "      <td>English</td>\n",
       "    </tr>\n",
       "    <tr>\n",
       "      <th>4</th>\n",
       "      <td>02/12/2019 11:19:37</td>\n",
       "      <td>32.0</td>\n",
       "      <td>Male</td>\n",
       "      <td>Berlin</td>\n",
       "      <td>Senior</td>\n",
       "      <td>Embedded Developer</td>\n",
       "      <td>10</td>\n",
       "      <td>66000.0</td>\n",
       "      <td>56000.0</td>\n",
       "      <td>English</td>\n",
       "    </tr>\n",
       "  </tbody>\n",
       "</table>\n",
       "</div>"
      ],
      "text/plain": [
       "             Timestamp   Age Gender    City   Level             Position  YOE  \\\n",
       "0  02/12/2019 11:18:26  33.0   Male  Berlin  Senior  Fullstack Developer   13   \n",
       "1  02/12/2019 11:18:35  29.0   Male  Berlin  Middle    Backend Developer    3   \n",
       "2  02/12/2019 11:18:56   NaN   Male  Berlin  Middle     Mobile Developer    4   \n",
       "3  02/12/2019 11:19:08  30.0   Male  Berlin  Senior    Backend Developer    6   \n",
       "4  02/12/2019 11:19:37  32.0   Male  Berlin  Senior   Embedded Developer   10   \n",
       "\n",
       "    Salary     SOYA Language  \n",
       "0  64000.0  58000.0  English  \n",
       "1  55000.0  55000.0  English  \n",
       "2  70000.0  55000.0  English  \n",
       "3  63000.0      NaN  English  \n",
       "4  66000.0  56000.0  English  "
      ]
     },
     "execution_count": 85,
     "metadata": {},
     "output_type": "execute_result"
    }
   ],
   "source": [
    "# Changing the format of the Timestamp on Dataframe 2\n",
    "df2['Timestamp'] = pd.to_datetime(df2['Timestamp'], format='%d.%m.%Y %H:%M:%S').dt.strftime('%d/%m/%Y %H:%M:%S')\n",
    "df2.head()"
   ]
  },
  {
   "cell_type": "code",
   "execution_count": 86,
   "metadata": {},
   "outputs": [
    {
     "data": {
      "text/html": [
       "<div>\n",
       "<style scoped>\n",
       "    .dataframe tbody tr th:only-of-type {\n",
       "        vertical-align: middle;\n",
       "    }\n",
       "\n",
       "    .dataframe tbody tr th {\n",
       "        vertical-align: top;\n",
       "    }\n",
       "\n",
       "    .dataframe thead th {\n",
       "        text-align: right;\n",
       "    }\n",
       "</style>\n",
       "<table border=\"1\" class=\"dataframe\">\n",
       "  <thead>\n",
       "    <tr style=\"text-align: right;\">\n",
       "      <th></th>\n",
       "      <th>Timestamp</th>\n",
       "      <th>Age</th>\n",
       "      <th>Gender</th>\n",
       "      <th>City</th>\n",
       "      <th>Position</th>\n",
       "      <th>YOE</th>\n",
       "      <th>Level</th>\n",
       "      <th>Salary</th>\n",
       "      <th>SOYA</th>\n",
       "      <th>Language</th>\n",
       "    </tr>\n",
       "  </thead>\n",
       "  <tbody>\n",
       "    <tr>\n",
       "      <th>0</th>\n",
       "      <td>14/12/2018 12:41:33</td>\n",
       "      <td>43.0</td>\n",
       "      <td>Male</td>\n",
       "      <td>München</td>\n",
       "      <td>QA Ingenieur</td>\n",
       "      <td>11.0</td>\n",
       "      <td>Senior</td>\n",
       "      <td>77000.0</td>\n",
       "      <td>76200.0</td>\n",
       "      <td>Deutsch</td>\n",
       "    </tr>\n",
       "    <tr>\n",
       "      <th>1</th>\n",
       "      <td>14/12/2018 12:42:09</td>\n",
       "      <td>33.0</td>\n",
       "      <td>Female</td>\n",
       "      <td>München</td>\n",
       "      <td>Senior PHP Magento developer</td>\n",
       "      <td>8.0</td>\n",
       "      <td>Senior</td>\n",
       "      <td>65000.0</td>\n",
       "      <td>55000.0</td>\n",
       "      <td>Deutsch</td>\n",
       "    </tr>\n",
       "    <tr>\n",
       "      <th>2</th>\n",
       "      <td>14/12/2018 12:47:36</td>\n",
       "      <td>32.0</td>\n",
       "      <td>Male</td>\n",
       "      <td>München</td>\n",
       "      <td>Software Engineer</td>\n",
       "      <td>10.0</td>\n",
       "      <td>Senior</td>\n",
       "      <td>88000.0</td>\n",
       "      <td>73000.0</td>\n",
       "      <td>Deutsch</td>\n",
       "    </tr>\n",
       "    <tr>\n",
       "      <th>3</th>\n",
       "      <td>14/12/2018 12:50:15</td>\n",
       "      <td>25.0</td>\n",
       "      <td>Male</td>\n",
       "      <td>München</td>\n",
       "      <td>Senior Frontend Developer</td>\n",
       "      <td>6.0</td>\n",
       "      <td>Senior</td>\n",
       "      <td>78000.0</td>\n",
       "      <td>55000.0</td>\n",
       "      <td>English</td>\n",
       "    </tr>\n",
       "    <tr>\n",
       "      <th>4</th>\n",
       "      <td>14/12/2018 12:50:31</td>\n",
       "      <td>39.0</td>\n",
       "      <td>Male</td>\n",
       "      <td>München</td>\n",
       "      <td>UX Designer</td>\n",
       "      <td>10.0</td>\n",
       "      <td>Senior</td>\n",
       "      <td>69000.0</td>\n",
       "      <td>60000.0</td>\n",
       "      <td>English</td>\n",
       "    </tr>\n",
       "  </tbody>\n",
       "</table>\n",
       "</div>"
      ],
      "text/plain": [
       "             Timestamp   Age  Gender     City                       Position  \\\n",
       "0  14/12/2018 12:41:33  43.0    Male  München                   QA Ingenieur   \n",
       "1  14/12/2018 12:42:09  33.0  Female  München  Senior PHP Magento developer    \n",
       "2  14/12/2018 12:47:36  32.0    Male  München              Software Engineer   \n",
       "3  14/12/2018 12:50:15  25.0    Male  München      Senior Frontend Developer   \n",
       "4  14/12/2018 12:50:31  39.0    Male  München                    UX Designer   \n",
       "\n",
       "    YOE   Level   Salary     SOYA Language  \n",
       "0  11.0  Senior  77000.0  76200.0  Deutsch  \n",
       "1   8.0  Senior  65000.0  55000.0  Deutsch  \n",
       "2  10.0  Senior  88000.0  73000.0  Deutsch  \n",
       "3   6.0  Senior  78000.0  55000.0  English  \n",
       "4  10.0  Senior  69000.0  60000.0  English  "
      ]
     },
     "execution_count": 86,
     "metadata": {},
     "output_type": "execute_result"
    }
   ],
   "source": [
    "# Replacing Values of Dataframe 1 in Gender column to match others\n",
    "df1['Gender'] = df1['Gender'].replace({'M': 'Male'})\n",
    "df1['Gender'] = df1['Gender'].replace({'F': 'Female'})\n",
    "df1.head()"
   ]
  },
  {
   "cell_type": "code",
   "execution_count": 87,
   "metadata": {},
   "outputs": [
    {
     "data": {
      "text/html": [
       "<div>\n",
       "<style scoped>\n",
       "    .dataframe tbody tr th:only-of-type {\n",
       "        vertical-align: middle;\n",
       "    }\n",
       "\n",
       "    .dataframe tbody tr th {\n",
       "        vertical-align: top;\n",
       "    }\n",
       "\n",
       "    .dataframe thead th {\n",
       "        text-align: right;\n",
       "    }\n",
       "</style>\n",
       "<table border=\"1\" class=\"dataframe\">\n",
       "  <thead>\n",
       "    <tr style=\"text-align: right;\">\n",
       "      <th></th>\n",
       "      <th>Timestamp</th>\n",
       "      <th>Age</th>\n",
       "      <th>Gender</th>\n",
       "      <th>City</th>\n",
       "      <th>Position</th>\n",
       "      <th>YOE</th>\n",
       "      <th>Level</th>\n",
       "      <th>Salary</th>\n",
       "      <th>SOYA</th>\n",
       "      <th>Language</th>\n",
       "    </tr>\n",
       "  </thead>\n",
       "  <tbody>\n",
       "    <tr>\n",
       "      <th>3002</th>\n",
       "      <td>18/01/2021 11:50:02</td>\n",
       "      <td>34.0</td>\n",
       "      <td>Male</td>\n",
       "      <td>Zurich</td>\n",
       "      <td>Software Engineer</td>\n",
       "      <td>7</td>\n",
       "      <td>Senior</td>\n",
       "      <td>108500.0</td>\n",
       "      <td>90000.0</td>\n",
       "      <td>English</td>\n",
       "    </tr>\n",
       "    <tr>\n",
       "      <th>3003</th>\n",
       "      <td>18/01/2021 15:05:50</td>\n",
       "      <td>31.0</td>\n",
       "      <td>Male</td>\n",
       "      <td>Berlin</td>\n",
       "      <td>Backend Developer</td>\n",
       "      <td>9</td>\n",
       "      <td>Senior</td>\n",
       "      <td>70000.0</td>\n",
       "      <td>70000.0</td>\n",
       "      <td>English</td>\n",
       "    </tr>\n",
       "    <tr>\n",
       "      <th>3004</th>\n",
       "      <td>18/01/2021 17:46:02</td>\n",
       "      <td>33.0</td>\n",
       "      <td>Male</td>\n",
       "      <td>Berlin</td>\n",
       "      <td>Researcher/ Consumer Insights Analyst</td>\n",
       "      <td>10</td>\n",
       "      <td>Senior</td>\n",
       "      <td>60000.0</td>\n",
       "      <td>48000.0</td>\n",
       "      <td>English</td>\n",
       "    </tr>\n",
       "    <tr>\n",
       "      <th>3005</th>\n",
       "      <td>18/01/2021 23:20:35</td>\n",
       "      <td>39.0</td>\n",
       "      <td>Male</td>\n",
       "      <td>Munich</td>\n",
       "      <td>IT Operations Manager</td>\n",
       "      <td>15</td>\n",
       "      <td>Lead</td>\n",
       "      <td>110000.0</td>\n",
       "      <td>90000.0</td>\n",
       "      <td>English</td>\n",
       "    </tr>\n",
       "    <tr>\n",
       "      <th>3006</th>\n",
       "      <td>19/01/2021 12:01:11</td>\n",
       "      <td>26.0</td>\n",
       "      <td>Male</td>\n",
       "      <td>Berlin</td>\n",
       "      <td>DevOps</td>\n",
       "      <td>2</td>\n",
       "      <td>Middle</td>\n",
       "      <td>65000.0</td>\n",
       "      <td>40000.0</td>\n",
       "      <td>English</td>\n",
       "    </tr>\n",
       "  </tbody>\n",
       "</table>\n",
       "</div>"
      ],
      "text/plain": [
       "                Timestamp   Age Gender    City  \\\n",
       "3002  18/01/2021 11:50:02  34.0   Male  Zurich   \n",
       "3003  18/01/2021 15:05:50  31.0   Male  Berlin   \n",
       "3004  18/01/2021 17:46:02  33.0   Male  Berlin   \n",
       "3005  18/01/2021 23:20:35  39.0   Male  Munich   \n",
       "3006  19/01/2021 12:01:11  26.0   Male  Berlin   \n",
       "\n",
       "                                    Position YOE   Level    Salary     SOYA  \\\n",
       "3002                       Software Engineer   7  Senior  108500.0  90000.0   \n",
       "3003                       Backend Developer   9  Senior   70000.0  70000.0   \n",
       "3004  Researcher/ Consumer Insights Analyst   10  Senior   60000.0  48000.0   \n",
       "3005                   IT Operations Manager  15    Lead  110000.0  90000.0   \n",
       "3006                                  DevOps   2  Middle   65000.0  40000.0   \n",
       "\n",
       "     Language  \n",
       "3002  English  \n",
       "3003  English  \n",
       "3004  English  \n",
       "3005  English  \n",
       "3006  English  "
      ]
     },
     "execution_count": 87,
     "metadata": {},
     "output_type": "execute_result"
    }
   ],
   "source": [
    "# Merge the three Dataframes using concat method\n",
    "df = pd.concat([df1, df2, df3], ignore_index=True, sort=False)\n",
    "df.tail()"
   ]
  },
  {
   "cell_type": "code",
   "execution_count": 88,
   "metadata": {},
   "outputs": [
    {
     "data": {
      "text/plain": [
       "(3007, 10)"
      ]
     },
     "execution_count": 88,
     "metadata": {},
     "output_type": "execute_result"
    }
   ],
   "source": [
    "# Defining the shape of the merged dataframe\n",
    "df.shape"
   ]
  },
  {
   "cell_type": "code",
   "execution_count": 89,
   "metadata": {},
   "outputs": [
    {
     "name": "stdout",
     "output_type": "stream",
     "text": [
      "<class 'pandas.core.frame.DataFrame'>\n",
      "RangeIndex: 3007 entries, 0 to 3006\n",
      "Data columns (total 10 columns):\n",
      " #   Column     Non-Null Count  Dtype  \n",
      "---  ------     --------------  -----  \n",
      " 0   Timestamp  3007 non-null   object \n",
      " 1   Age        2778 non-null   float64\n",
      " 2   Gender     2983 non-null   object \n",
      " 3   City       2978 non-null   object \n",
      " 4   Position   2972 non-null   object \n",
      " 5   YOE        2958 non-null   object \n",
      " 6   Level      2958 non-null   object \n",
      " 7   Salary     2991 non-null   float64\n",
      " 8   SOYA       2083 non-null   float64\n",
      " 9   Language   2971 non-null   object \n",
      "dtypes: float64(3), object(7)\n",
      "memory usage: 235.1+ KB\n"
     ]
    }
   ],
   "source": [
    "# Getting the information about the dataset\n",
    "df.info()"
   ]
  },
  {
   "cell_type": "code",
   "execution_count": 90,
   "metadata": {},
   "outputs": [
    {
     "name": "stdout",
     "output_type": "stream",
     "text": [
      "Number of duplicate rows:  (0, 10)\n"
     ]
    }
   ],
   "source": [
    "# Rows containing duplicate data\n",
    "duplicate_rows_df = df[df.duplicated()]\n",
    "print(\"Number of duplicate rows: \", duplicate_rows_df.shape)"
   ]
  },
  {
   "cell_type": "code",
   "execution_count": 91,
   "metadata": {},
   "outputs": [
    {
     "name": "stdout",
     "output_type": "stream",
     "text": [
      "Timestamp      0\n",
      "Age          229\n",
      "Gender        24\n",
      "City          29\n",
      "Position      35\n",
      "YOE           49\n",
      "Level         49\n",
      "Salary        16\n",
      "SOYA         924\n",
      "Language      36\n",
      "dtype: int64\n"
     ]
    }
   ],
   "source": [
    "# Finding null values\n",
    "print(df.isnull().sum())"
   ]
  },
  {
   "cell_type": "code",
   "execution_count": 92,
   "metadata": {},
   "outputs": [
    {
     "data": {
      "text/plain": [
       "Timestamp    1913\n",
       "Age          1913\n",
       "Gender       1913\n",
       "City         1913\n",
       "Position     1913\n",
       "YOE          1913\n",
       "Level        1913\n",
       "Salary       1913\n",
       "SOYA         1913\n",
       "Language     1913\n",
       "dtype: int64"
      ]
     },
     "execution_count": 92,
     "metadata": {},
     "output_type": "execute_result"
    }
   ],
   "source": [
    "# Dropping missing values\n",
    "df = df.dropna()\n",
    "df.count()"
   ]
  },
  {
   "cell_type": "code",
   "execution_count": 93,
   "metadata": {},
   "outputs": [],
   "source": [
    "# Writing the data frame to a csv file \n",
    "df.to_csv('csv/IT Salary Survey EU (2018 - 2020).csv')"
   ]
  },
  {
   "attachments": {},
   "cell_type": "markdown",
   "metadata": {},
   "source": [
    "#### Data Visualization"
   ]
  },
  {
   "cell_type": "code",
   "execution_count": 94,
   "metadata": {},
   "outputs": [
    {
     "data": {
      "text/plain": [
       "Index(['Timestamp', 'Age', 'Gender', 'City', 'Position', 'YOE', 'Level',\n",
       "       'Salary', 'SOYA', 'Language'],\n",
       "      dtype='object')"
      ]
     },
     "execution_count": 94,
     "metadata": {},
     "output_type": "execute_result"
    }
   ],
   "source": [
    "df.columns"
   ]
  },
  {
   "cell_type": "code",
   "execution_count": 95,
   "metadata": {},
   "outputs": [
    {
     "data": {
      "image/png": "[encoded data removed]",
      "text/plain": [
       "<Figure size 1800x600 with 1 Axes>"
      ]
     },
     "metadata": {},
     "output_type": "display_data"
    }
   ],
   "source": [
    "# Distribution of the ages\n",
    "plt.figure(figsize=(18,6))\n",
    "sns.countplot(data= df, x='Age')\n",
    "plt.title('The distribution of the ages of the participants:', fontsize= 16)\n",
    "plt.xlabel('Age', fontsize= 14)\n",
    "plt.ylabel('Count', fontsize = 14)\n",
    "plt.show()\n"
   ]
  },
  {
   "cell_type": "code",
   "execution_count": 96,
   "metadata": {},
   "outputs": [
    {
     "data": {
      "image/png": "[encoded data removed]",
      "text/plain": [
       "<Figure size 1800x600 with 1 Axes>"
      ]
     },
     "metadata": {},
     "output_type": "display_data"
    }
   ],
   "source": [
    "# Distribution of salary\n",
    "\n",
    "plt.figure(figsize=(18,6))\n",
    "sns.histplot(data=df, x=\"Salary\", bins=30)\n",
    "plt.title('The distribution of salary:',fontsize= 16)\n",
    "plt.xlabel('Yearly Salary', fontsize= 14)\n",
    "plt.ylabel('Count', fontsize= 14)\n",
    "plt.xticks(fontsize= 12)\n",
    "plt.yticks(fontsize = 12)\n",
    "plt.show()"
   ]
  },
  {
   "cell_type": "code",
   "execution_count": 97,
   "metadata": {},
   "outputs": [
    {
     "name": "stderr",
     "output_type": "stream",
     "text": [
      "C:\\Users\\Orioki\\AppData\\Local\\Temp\\ipykernel_13872\\2086281723.py:2: FutureWarning: The default value of numeric_only in DataFrame.corr is deprecated. In a future version, it will default to False. Select only valid columns or specify the value of numeric_only to silence this warning.\n",
      "  corr_df = df.corr()\n"
     ]
    },
    {
     "data": {
      "image/png": "[encoded data removed]",
      "text/plain": [
       "<Figure size 1500x1500 with 2 Axes>"
      ]
     },
     "metadata": {},
     "output_type": "display_data"
    }
   ],
   "source": [
    "# Corelation coefficient \n",
    "corr_df = df.corr()\n",
    "f,ax=plt.subplots(figsize=(15,15))\n",
    "sns.heatmap(corr_df,annot=True,fmt=\".2f\",linewidths=0.5,linecolor=\"pink\")\n",
    "plt.title('Correlations coefficient of the data')\n",
    "plt.show()"
   ]
  }
 ],
 "metadata": {
  "kernelspec": {
   "display_name": "Python 3",
   "language": "python",
   "name": "python3"
  },
  "language_info": {
   "codemirror_mode": {
    "name": "ipython",
    "version": 3
   },
   "file_extension": ".py",
   "mimetype": "text/x-python",
   "name": "python",
   "nbconvert_exporter": "python",
   "pygments_lexer": "ipython3",
   "version": "3.11.2"
  },
  "orig_nbformat": 4,
  "vscode": {
   "interpreter": {
    "hash": "7072cc1a194305ee30c352fe3818258217bc97161ec57882b21dc58f13b82b21"
   }
  }
 },
 "nbformat": 4,
 "nbformat_minor": 2
}
