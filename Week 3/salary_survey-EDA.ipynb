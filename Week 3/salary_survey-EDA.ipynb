{
 "cells": [
  {
   "cell_type": "code",
   "execution_count": null,
   "metadata": {},
   "outputs": [],
   "source": [
    "# Import pyforest library, it contains: pandas, matplotlib, seaborn, numpy, sklearn...\n",
    "import pyforest"
   ]
  },
  {
   "cell_type": "code",
   "execution_count": null,
   "metadata": {},
   "outputs": [],
   "source": [
    "# Loading the data from all the csv that we want to merge\n",
    "df1 = pd.read_csv('csv/IT Salary Survey EU 2018.csv', sep=',')\n",
    "df2 = pd.read_csv('csv/IT Salary Survey EU 2019.csv', sep=',')\n",
    "df3 = pd.read_csv('csv/IT Salary Survey EU 2020.csv', sep=',')"
   ]
  },
  {
   "cell_type": "code",
   "execution_count": null,
   "metadata": {},
   "outputs": [],
   "source": [
    "# Defining the columns in Dataframe 1\n",
    "df1.columns"
   ]
  },
  {
   "cell_type": "code",
   "execution_count": null,
   "metadata": {},
   "outputs": [],
   "source": [
    "# Dropping some columns that seem unnecessary in the data analysis\n",
    "df1 = df1.drop([\"Salary two years ago\",\"Are you getting any Stock Options?\", \"Company size\", \"Company type\"], axis=1)\n",
    "df1.head()"
   ]
  },
  {
   "cell_type": "code",
   "execution_count": null,
   "metadata": {},
   "outputs": [],
   "source": [
    "# Rename the columns to a shorter version and which will be common to all the othr DataFrames\n",
    "df1 = df1.rename(columns={\"Years of experience\": \"YOE\", \"Your level\": \"Level\", \"Current Salary\": \"Salary\", \"Salary one year ago\": \"SOYA\", \"Main language at work\": \"Language\"})\n",
    "df1.head()"
   ]
  },
  {
   "cell_type": "code",
   "execution_count": null,
   "metadata": {},
   "outputs": [],
   "source": [
    "# Defining the columns in Dataframe 2\n",
    "df2.columns"
   ]
  },
  {
   "cell_type": "code",
   "execution_count": null,
   "metadata": {},
   "outputs": [],
   "source": [
    "# Dropping irrelevant columns\n",
    "df2 = df2.drop(['Your main technology / programming language', 'Yearly bonus', 'Yearly stocks', 'Yearly bonus one year ago. Only answer if staying in same country', 'Yearly stocks one year ago. Only answer if staying in same country', 'Number of vacation days', 'Number of home office days per month', 'Company name ', 'Company size', 'Company type', 'Сontract duration', 'Company business sector', '0'], axis=1)\n",
    "df2.columns"
   ]
  },
  {
   "cell_type": "code",
   "execution_count": null,
   "metadata": {},
   "outputs": [],
   "source": [
    "# Renaming the dataframe to as the Dataframe 1\n",
    "df2 = df2.rename(columns={\"Zeitstempel\": \"Timestamp\", \"Position (without seniority)\": \"Position\", \"Seniority level\": \"Level\", \"Years of experience\": \"YOE\", \"Yearly brutto salary (without bonus and stocks)\": \"Salary\", \"Yearly brutto salary (without bonus and stocks) one year ago. Only answer if staying in same country\": \"SOYA\", \"Main language at work\": \"Language\"})\n",
    "df2.head()"
   ]
  },
  {
   "cell_type": "code",
   "execution_count": null,
   "metadata": {},
   "outputs": [],
   "source": [
    "# Defining the columns in Dataframe 3\n",
    "df3.columns"
   ]
  },
  {
   "cell_type": "code",
   "execution_count": null,
   "metadata": {},
   "outputs": [],
   "source": [
    "# Dropping the irrelevant columns\n",
    "df3 = df3.drop(['Years of experience in Germany', 'Your main technology / programming language', 'Other technologies/programming languages you use often', 'Yearly bonus + stocks in EUR', 'Annual bonus+stocks one year ago. Only answer if staying in same country', 'Number of vacation days', 'Employment status', 'Сontract duration', 'Company size', 'Company type', 'Have you lost your job due to the coronavirus outbreak?', 'Have you been forced to have a shorter working week (Kurzarbeit)? If yes, how many hours per week','Have you received additional monetary support from your employer due to Work From Home? If yes, how much in 2020 in EUR'], axis=1)\n",
    "df3.columns"
   ]
  },
  {
   "cell_type": "code",
   "execution_count": null,
   "metadata": {},
   "outputs": [],
   "source": [
    "# Renaming the dataframe to as the Dataframe 1 and 2\n",
    "df3 = df3.rename(columns={\"Position \": \"Position\", \"Total years of experience\": \"YOE\", \"Seniority level\":\"Level\", \"Yearly brutto salary (without bonus and stocks) in EUR\": \"Salary\", \"Annual brutto salary (without bonus and stocks) one year ago. Only answer if staying in the same country\":\"SOYA\", \"Main language at work\": \"Language\"})\n",
    "df3.head()"
   ]
  },
  {
   "cell_type": "code",
   "execution_count": null,
   "metadata": {},
   "outputs": [],
   "source": [
    "# Changing the format of the Timestamp on Dataframe 2\n",
    "df2['Timestamp'] = pd.to_datetime(df2['Timestamp'], format='%d.%m.%Y %H:%M:%S').dt.strftime('%d/%m/%Y %H:%M:%S')\n",
    "df2.head()"
   ]
  },
  {
   "cell_type": "code",
   "execution_count": null,
   "metadata": {},
   "outputs": [],
   "source": [
    "# Replacing Values of Dataframe 1 in Gender column to match others\n",
    "df1['Gender'] = df1['Gender'].replace({'M': 'Male'})\n",
    "df1['Gender'] = df1['Gender'].replace({'F': 'Female'})\n",
    "df1.head()"
   ]
  },
  {
   "cell_type": "code",
   "execution_count": null,
   "metadata": {},
   "outputs": [],
   "source": [
    "# Merge the three Dataframes using concat method\n",
    "df = pd.concat([df1, df2, df3], ignore_index=True, sort=False)\n",
    "df.tail()"
   ]
  },
  {
   "cell_type": "code",
   "execution_count": null,
   "metadata": {},
   "outputs": [],
   "source": [
    "# Defining the shape of the merged dataframe\n",
    "df.shape"
   ]
  },
  {
   "cell_type": "code",
   "execution_count": null,
   "metadata": {},
   "outputs": [],
   "source": [
    "# Getting the information about the dataset\n",
    "df.info()"
   ]
  },
  {
   "cell_type": "code",
   "execution_count": null,
   "metadata": {},
   "outputs": [],
   "source": [
    "# Rows containing duplicate data\n",
    "duplicate_rows_df = df[df.duplicated()]\n",
    "print(\"Number of duplicate rows: \", duplicate_rows_df.shape)"
   ]
  },
  {
   "cell_type": "code",
   "execution_count": null,
   "metadata": {},
   "outputs": [],
   "source": [
    "# Finding null values\n",
    "print(df.isnull().sum())"
   ]
  },
  {
   "cell_type": "code",
   "execution_count": null,
   "metadata": {},
   "outputs": [],
   "source": [
    "# Dropping missing values\n",
    "df = df.dropna()\n",
    "df.count()"
   ]
  },
  {
   "cell_type": "code",
   "execution_count": null,
   "metadata": {},
   "outputs": [],
   "source": [
    "# Writing the data frame to a csv file \n",
    "df.to_csv('csv/IT Salary Survey EU (2018 - 2020).csv')"
   ]
  },
  {
   "attachments": {},
   "cell_type": "markdown",
   "metadata": {},
   "source": [
    "#### Data Visualization"
   ]
  },
  {
   "cell_type": "code",
   "execution_count": null,
   "metadata": {},
   "outputs": [],
   "source": []
  }
 ],
 "metadata": {
  "kernelspec": {
   "display_name": "Python 3",
   "language": "python",
   "name": "python3"
  },
  "language_info": {
   "codemirror_mode": {
    "name": "ipython",
    "version": 3
   },
   "file_extension": ".py",
   "mimetype": "text/x-python",
   "name": "python",
   "nbconvert_exporter": "python",
   "pygments_lexer": "ipython3",
   "version": "3.11.2"
  },
  "orig_nbformat": 4,
  "vscode": {
   "interpreter": {
    "hash": "7072cc1a194305ee30c352fe3818258217bc97161ec57882b21dc58f13b82b21"
   }
  }
 },
 "nbformat": 4,
 "nbformat_minor": 2
}
