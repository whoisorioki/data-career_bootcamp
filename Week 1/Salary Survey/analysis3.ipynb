{
 "cells": [
  {
   "cell_type": "code",
   "execution_count": null,
   "metadata": {},
   "outputs": [],
   "source": [
    "import pandas as pd\n",
    "import numpy\n",
    "import matplotlib.pyplot as plt\n",
    "import seaborn as sns"
   ]
  },
  {
   "cell_type": "code",
   "execution_count": null,
   "metadata": {},
   "outputs": [],
   "source": [
    "survey3 = pd.read_csv('csv/IT Salary Survey EU 2020.csv', sep=',')"
   ]
  },
  {
   "cell_type": "code",
   "execution_count": null,
   "metadata": {},
   "outputs": [],
   "source": [
    "survey3.shape"
   ]
  },
  {
   "cell_type": "code",
   "execution_count": null,
   "metadata": {},
   "outputs": [],
   "source": [
    "survey3.info()"
   ]
  },
  {
   "cell_type": "code",
   "execution_count": null,
   "metadata": {},
   "outputs": [],
   "source": [
    "survey3.describe()"
   ]
  },
  {
   "cell_type": "code",
   "execution_count": null,
   "metadata": {},
   "outputs": [],
   "source": [
    "survey3.columns"
   ]
  },
  {
   "cell_type": "code",
   "execution_count": null,
   "metadata": {},
   "outputs": [],
   "source": [
    "survey3.corr()"
   ]
  },
  {
   "cell_type": "code",
   "execution_count": null,
   "metadata": {},
   "outputs": [],
   "source": [
    "plt.hist(survey3['Yearly brutto salary (without bonus and stocks) in EUR'], bins=25)\n",
    "plt.xlabel('Current Salary')\n",
    "plt.ylabel('Count')\n",
    "plt.title('Distribution of Salaries')\n",
    "print(plt.show)"
   ]
  },
  {
   "cell_type": "code",
   "execution_count": null,
   "metadata": {},
   "outputs": [],
   "source": [
    "plt.figure(figsize=(16, 11))\n",
    "plt.boxplot([survey3.loc[survey3['Position '] == 'Software Engineer', 'Yearly brutto salary (without bonus and stocks) in EUR'],\n",
    "             survey3.loc[survey3['Position '] == 'Data Engineer', 'Yearly brutto salary (without bonus and stocks) in EUR'],\n",
    "             survey3.loc[survey3['Position '] == 'Data Scientist', 'Yearly brutto salary (without bonus and stocks) in EUR'],\n",
    "             survey3.loc[survey3['Position '] == 'Frontend Developer', 'Yearly brutto salary (without bonus and stocks) in EUR'],\n",
    "             survey3.loc[survey3['Position '] == 'Backend Developer', 'Yearly brutto salary (without bonus and stocks) in EUR'],\n",
    "             survey3.loc[survey3['Position '] == 'Project Manager', 'Yearly brutto salary (without bonus and stocks) in EUR']])\n",
    "plt.xticks([1, 2, 3, 4, 5, 6], ['Software Engineer', 'Data Engineer', 'Data Scientist', 'Frontend Developer', 'Backend Developer', 'Project Manager'])\n",
    "plt.xlabel('Position')\n",
    "plt.ylabel('Salary')\n",
    "plt.title('Salary against Job Position')\n",
    "plt.show()"
   ]
  },
  {
   "cell_type": "code",
   "execution_count": null,
   "metadata": {},
   "outputs": [],
   "source": [
    "corr_matrix = survey3.corr()\n",
    "plt.figure(figsize=(8, 5))\n",
    "sns.heatmap(corr_matrix, annot=True, cmap='coolwarm')\n",
    "plt.title('Correlation Matrix')\n",
    "plt.show()"
   ]
  }
 ],
 "metadata": {
  "kernelspec": {
   "display_name": "Python 3",
   "language": "python",
   "name": "python3"
  },
  "language_info": {
   "codemirror_mode": {
    "name": "ipython",
    "version": 3
   },
   "file_extension": ".py",
   "mimetype": "text/x-python",
   "name": "python",
   "nbconvert_exporter": "python",
   "pygments_lexer": "ipython3",
   "version": "3.11.2"
  },
  "orig_nbformat": 4,
  "vscode": {
   "interpreter": {
    "hash": "7072cc1a194305ee30c352fe3818258217bc97161ec57882b21dc58f13b82b21"
   }
  }
 },
 "nbformat": 4,
 "nbformat_minor": 2
}
