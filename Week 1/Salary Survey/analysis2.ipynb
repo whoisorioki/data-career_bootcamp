{
 "cells": [
  {
   "cell_type": "code",
   "execution_count": null,
   "metadata": {},
   "outputs": [],
   "source": [
    "import pandas as pd\n",
    "import numpy\n",
    "import matplotlib.pyplot as plt\n",
    "import seaborn as sns"
   ]
  },
  {
   "cell_type": "code",
   "execution_count": null,
   "metadata": {},
   "outputs": [],
   "source": [
    "survey2 = pd.read_csv('csv/IT Salary Survey EU 2019.csv', sep=',')"
   ]
  },
  {
   "cell_type": "code",
   "execution_count": null,
   "metadata": {},
   "outputs": [],
   "source": [
    "survey2.shape"
   ]
  },
  {
   "cell_type": "code",
   "execution_count": null,
   "metadata": {},
   "outputs": [],
   "source": [
    "survey2.info()"
   ]
  },
  {
   "cell_type": "code",
   "execution_count": null,
   "metadata": {},
   "outputs": [],
   "source": [
    "survey2.describe()"
   ]
  },
  {
   "cell_type": "code",
   "execution_count": null,
   "metadata": {},
   "outputs": [],
   "source": [
    "survey2.columns"
   ]
  },
  {
   "cell_type": "code",
   "execution_count": null,
   "metadata": {},
   "outputs": [],
   "source": [
    "survey2.corr()"
   ]
  },
  {
   "cell_type": "code",
   "execution_count": null,
   "metadata": {},
   "outputs": [],
   "source": [
    "plt.hist(survey2['Yearly brutto salary (without bonus and stocks)'], bins=25)\n",
    "plt.xlabel('Current Salary')\n",
    "plt.ylabel('Count')\n",
    "plt.title('Distribution of Salaries')\n",
    "print(plt.show)"
   ]
  },
  {
   "cell_type": "code",
   "execution_count": null,
   "metadata": {},
   "outputs": [],
   "source": [
    "plt.figure(figsize=(16, 11))\n",
    "plt.boxplot([survey2.loc[survey2['Position (without seniority)'] == 'Software Engineer', 'Yearly brutto salary (without bonus and stocks)'],\n",
    "             survey2.loc[survey2['Position (without seniority)'] == 'Data Engineer', 'Yearly brutto salary (without bonus and stocks)'],\n",
    "             survey2.loc[survey2['Position (without seniority)'] == 'Data Scientist', 'Yearly brutto salary (without bonus and stocks)'],\n",
    "             survey2.loc[survey2['Position (without seniority)'] == 'Frontend Developer', 'Yearly brutto salary (without bonus and stocks)'],\n",
    "             survey2.loc[survey2['Position (without seniority)'] == 'Backend Developer', 'Yearly brutto salary (without bonus and stocks)'],\n",
    "             survey2.loc[survey2['Position (without seniority)'] == 'Fullstack Developer', 'Yearly brutto salary (without bonus and stocks)']])\n",
    "plt.xticks([1, 2, 3, 4, 5, 6], ['Software Engineer', 'Data Engineer', 'Data Scientist', 'Frontend Developer', 'Backend Developer', 'Fullstack Developer'])\n",
    "plt.xlabel('Position')\n",
    "plt.ylabel('Salary')\n",
    "plt.title('Salary against Job Position')\n",
    "plt.show()"
   ]
  },
  {
   "cell_type": "code",
   "execution_count": null,
   "metadata": {},
   "outputs": [],
   "source": [
    "corr_matrix = survey2.corr()\n",
    "plt.figure(figsize=(8, 5))\n",
    "sns.heatmap(corr_matrix, annot=True, cmap='coolwarm')\n",
    "plt.title('Correlation Matrix')\n",
    "plt.show()"
   ]
  }
 ],
 "metadata": {
  "kernelspec": {
   "display_name": "Python 3",
   "language": "python",
   "name": "python3"
  },
  "language_info": {
   "codemirror_mode": {
    "name": "ipython",
    "version": 3
   },
   "file_extension": ".py",
   "mimetype": "text/x-python",
   "name": "python",
   "nbconvert_exporter": "python",
   "pygments_lexer": "ipython3",
   "version": "3.11.2"
  },
  "orig_nbformat": 4,
  "vscode": {
   "interpreter": {
    "hash": "7072cc1a194305ee30c352fe3818258217bc97161ec57882b21dc58f13b82b21"
   }
  }
 },
 "nbformat": 4,
 "nbformat_minor": 2
}
