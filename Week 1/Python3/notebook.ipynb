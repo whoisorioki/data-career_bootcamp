{
 "cells": [
  {
   "cell_type": "code",
   "execution_count": 26,
   "id": "cd812c92",
   "metadata": {},
   "outputs": [],
   "source": [
    "data = []\n",
    "l = input()"
   ]
  },
  {
   "cell_type": "code",
   "execution_count": 27,
   "id": "6e06c4a9",
   "metadata": {},
   "outputs": [
    {
     "data": {
      "text/plain": [
       "['duck']"
      ]
     },
     "execution_count": 27,
     "metadata": {},
     "output_type": "execute_result"
    }
   ],
   "source": [
    "data.append(l)\n",
    "data"
   ]
  },
  {
   "cell_type": "code",
   "execution_count": 28,
   "id": "28fb6d4f",
   "metadata": {},
   "outputs": [
    {
     "data": {
      "text/plain": [
       "['duck', 'cats', 'dogs', 'cows']"
      ]
     },
     "execution_count": 28,
     "metadata": {},
     "output_type": "execute_result"
    }
   ],
   "source": [
    "boot = ['cats', 'dogs', 'cows']\n",
    "data.extend(boot)\n",
    "data"
   ]
  },
  {
   "cell_type": "code",
   "execution_count": 29,
   "id": "c661316b",
   "metadata": {},
   "outputs": [
    {
     "data": {
      "text/plain": [
       "['goose', 'duck', 'cats', 'dogs', 'cows']"
      ]
     },
     "execution_count": 29,
     "metadata": {},
     "output_type": "execute_result"
    }
   ],
   "source": [
    "g = 'goose'\n",
    "i = 0\n",
    "data.insert(i, g)\n",
    "data"
   ]
  },
  {
   "cell_type": "code",
   "execution_count": null,
   "id": "7f4d9d0e",
   "metadata": {},
   "outputs": [],
   "source": []
  }
 ],
 "metadata": {
  "kernelspec": {
   "display_name": "Python 3 (ipykernel)",
   "language": "python",
   "name": "python3"
  },
  "language_info": {
   "codemirror_mode": {
    "name": "ipython",
    "version": 3
   },
   "file_extension": ".py",
   "mimetype": "text/x-python",
   "name": "python",
   "nbconvert_exporter": "python",
   "pygments_lexer": "ipython3",
   "version": "3.10.10"
  }
 },
 "nbformat": 4,
 "nbformat_minor": 5
}
