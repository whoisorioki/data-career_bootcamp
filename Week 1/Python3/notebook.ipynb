{
 "cells": [
  {
   "cell_type": "code",
   "execution_count": 2,
   "id": "cd812c92",
   "metadata": {},
   "outputs": [
    {
     "name": "stdout",
     "output_type": "stream",
     "text": [
      "fish\n"
     ]
    }
   ],
   "source": [
    "data = []\n",
    "l = input()"
   ]
  },
  {
   "cell_type": "code",
   "execution_count": 3,
   "id": "6e06c4a9",
   "metadata": {},
   "outputs": [],
   "source": [
    "data.append(l)"
   ]
  },
  {
   "cell_type": "code",
   "execution_count": 4,
   "id": "75d9240e",
   "metadata": {},
   "outputs": [
    {
     "name": "stdout",
     "output_type": "stream",
     "text": [
      "['fish']\n"
     ]
    }
   ],
   "source": [
    "print(data)"
   ]
  },
  {
   "cell_type": "code",
   "execution_count": 6,
   "id": "28fb6d4f",
   "metadata": {},
   "outputs": [
    {
     "name": "stdout",
     "output_type": "stream",
     "text": [
      "['fish', 'cats', 'dogs', 'cows', 'cats', 'dogs', 'cows']\n"
     ]
    }
   ],
   "source": [
    "boot = ['cats', 'dogs', 'cows']\n",
    "data.extend(boot)\n",
    "print(data)"
   ]
  },
  {
   "cell_type": "code",
   "execution_count": 16,
   "id": "c661316b",
   "metadata": {},
   "outputs": [
    {
     "ename": "SyntaxError",
     "evalue": "invalid syntax (399540083.py, line 3)",
     "output_type": "error",
     "traceback": [
      "\u001b[1;36m  File \u001b[1;32m\"C:\\Users\\Orioki\\AppData\\Local\\Temp\\ipykernel_10380\\399540083.py\"\u001b[1;36m, line \u001b[1;32m3\u001b[0m\n\u001b[1;33m    data.insert(g i)\u001b[0m\n\u001b[1;37m                  ^\u001b[0m\n\u001b[1;31mSyntaxError\u001b[0m\u001b[1;31m:\u001b[0m invalid syntax\n"
     ]
    }
   ],
   "source": [
    "g = 'goose'\n",
    "i = 7\n",
    "data.insert(g i)"
   ]
  },
  {
   "cell_type": "code",
   "execution_count": null,
   "id": "7f4d9d0e",
   "metadata": {},
   "outputs": [],
   "source": []
  }
 ],
 "metadata": {
  "kernelspec": {
   "display_name": "Python 3 (ipykernel)",
   "language": "python",
   "name": "python3"
  },
  "language_info": {
   "codemirror_mode": {
    "name": "ipython",
    "version": 3
   },
   "file_extension": ".py",
   "mimetype": "text/x-python",
   "name": "python",
   "nbconvert_exporter": "python",
   "pygments_lexer": "ipython3",
   "version": "3.9.13"
  }
 },
 "nbformat": 4,
 "nbformat_minor": 5
}
