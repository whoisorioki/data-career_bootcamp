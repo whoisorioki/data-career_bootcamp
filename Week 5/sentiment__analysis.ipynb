{
  "cells": [
    {
      "cell_type": "code",
      "execution_count": null,
      "metadata": {
        "colab": {
          "base_uri": "https://localhost:8080/",
          "height": 374
        },
        "id": "RsxtYj1sKXXe",
        "outputId": "6eff54b6-b8d8-42f1-b087-e126ca7b1227"
      },
      "outputs": [],
      "source": [
        "# Import libraries\n",
        "import re\n",
        "import nltk\n",
        "import string\n",
        "import pyforest\n",
        "import pickle \n",
        "import seaborn as sns\n",
        "import matplotlib.pyplot as plt\n",
        "from nltk.corpus import stopwords\n",
        "from nltk.tokenize import word_tokenize\n",
        "from sklearn.model_selection import train_test_split\n",
        "from sklearn.feature_extraction.text import TfidfVectorizer\n",
        "from sklearn.linear_model import LogisticRegression\n",
        "from sklearn.metrics import classification_report, confusion_matrix, accuracy_score, f1_score"
      ]
    },
    {
      "cell_type": "code",
      "execution_count": null,
      "metadata": {
        "id": "CsAM_dgZLddz"
      },
      "outputs": [],
      "source": [
        "# Read the CSV file\n",
        "columns  = [\"sentiment\", \"ID\", \"datetime\", \"query\", \"username\", \"text\"]\n",
        "df = pd.read_csv('sentiment_dataset.csv', delimiter=',', encoding = \"ISO-8859-1\", names = columns)\n",
        "df.head()"
      ]
    },
    {
      "cell_type": "code",
      "execution_count": null,
      "metadata": {
        "id": "6_poAUzuRcVw"
      },
      "outputs": [],
      "source": [
        "# Extract sentiment and text column, they will be relevant in this analysis\n",
        "df = df[['sentiment','text']]\n",
        "df.head()"
      ]
    },
    {
      "cell_type": "code",
      "execution_count": null,
      "metadata": {
        "id": "_ifPK0G-Uzhm"
      },
      "outputs": [],
      "source": [
        "# Fuction that performs cleaning using re library. \n",
        "# It removes uppercase, brackets, links, punctuation etc\n",
        "def cleaning(a):\n",
        "    a = str(a).lower()\n",
        "    a = re.sub('\\[.*?\\]', '', a)\n",
        "    a = re.sub('[%s]' % re.escape(string.punctuation), '', a)\n",
        "    a = re.sub('\\n', '', a)\n",
        "    a = re.sub('https?://\\S+|www\\.\\S+', '', a)\n",
        "    a = re.sub('<.*?>+', '', a)\n",
        "    a = re.sub('\\w*\\d\\w*', '', a)\n",
        "    return a\n",
        "\n",
        "df['text'] = df['text'].apply(cleaning)\n",
        "df.head()"
      ]
    },
    {
      "cell_type": "code",
      "execution_count": null,
      "metadata": {
        "id": "uxvEarRpVtvC"
      },
      "outputs": [],
      "source": [
        "# Checking for balance\n",
        "df['sentiment'].value_counts()"
      ]
    },
    {
      "cell_type": "code",
      "execution_count": null,
      "metadata": {
        "id": "Z90pOfsAXko1"
      },
      "outputs": [],
      "source": [
        "# Removing stop words i.e., the, is, and, or, in, this etc\n",
        "s_words = stopwords.words('english')\n",
        "\n",
        "def removing(text):\n",
        "    a = ' '.join(i for i in text.split(' ') if i not in s_words)\n",
        "    return a\n",
        "    \n",
        "df['text'] = df['text'].apply(removing)\n",
        "df.head()"
      ]
    },
    {
      "cell_type": "code",
      "execution_count": null,
      "metadata": {
        "id": "8gfTs0lDaTwH"
      },
      "outputs": [],
      "source": [
        "# Change 0 to negative and 4 to positive\n",
        "class_dict = {0:'negative', 4:'positive'}\n",
        "df['sentiment'] = df['sentiment'].apply(lambda x:  class_dict[x])\n",
        "df.head()"
      ]
    },
    {
      "cell_type": "code",
      "execution_count": null,
      "metadata": {
        "id": "DJdBJ-6obsjZ"
      },
      "outputs": [],
      "source": [
        "# Stemming words that have same meaning\n",
        "stemmer = nltk.SnowballStemmer(\"english\")\n",
        "\n",
        "def stemming(text):\n",
        "    text = ' '.join(stemmer.stem(i) for i in text.split(' '))\n",
        "    return text\n",
        "\n",
        "df['text'] = df['text'].apply(stemming)\n",
        "df.head()"
      ]
    },
    {
      "cell_type": "code",
      "execution_count": null,
      "metadata": {},
      "outputs": [],
      "source": [
        "df['text'] = df['text'].str.strip()\n",
        "df.head()"
      ]
    },
    {
      "cell_type": "code",
      "execution_count": null,
      "metadata": {
        "id": "Ra1-djeYe6i-"
      },
      "outputs": [],
      "source": [
        "# Split the data to train data and test data\n",
        "X = df['text']\n",
        "y = df['sentiment']\n",
        "X_train, X_test, y_train, y_test = train_test_split(X, y, test_size=0.25, random_state=42)"
      ]
    },
    {
      "cell_type": "code",
      "execution_count": null,
      "metadata": {},
      "outputs": [],
      "source": [
        "# Modeling\n",
        "vectorizer = TfidfVectorizer()\n",
        "X_train = vectorizer.fit_transform(X_train)\n",
        "X_test = vectorizer.transform(X_test)"
      ]
    },
    {
      "cell_type": "code",
      "execution_count": null,
      "metadata": {},
      "outputs": [],
      "source": [
        "# Logistic Regression\n",
        "lr = LogisticRegression()\n",
        "lr.fit(X_train, y_train)\n",
        "lr.score(X_test, y_test)"
      ]
    },
    {
      "cell_type": "code",
      "execution_count": null,
      "metadata": {},
      "outputs": [],
      "source": [
        "print(\"F1 Score: \", f1_score(y_test, lr.predict(X_test), pos_label='positive'))\n",
        "print('Accuracy: ', accuracy_score(y_test, lr.predict(X_test)), \"\\n\")\n",
        "print(classification_report(y_test, lr.predict(X_test)))\n",
        "print('Confusion Matrix:\\n', confusion_matrix(y_test, lr.predict(X_test)))"
      ]
    },
    {
      "cell_type": "code",
      "execution_count": null,
      "metadata": {},
      "outputs": [],
      "source": [
        "coefficients = pd.DataFrame(lr.coef_, columns=vectorizer.get_feature_names()).T\n",
        "coefficients.columns = ['coefficients']\n",
        "coefficients['abs'] = coefficients['coefficients'].apply(lambda x: abs(x))\n",
        "coefficients.sort_values(by='abs', ascending=False).head(10)"
      ]
    },
    {
      "cell_type": "code",
      "execution_count": null,
      "metadata": {},
      "outputs": [],
      "source": [
        "predict = lambda x: lr.predict(vectorizer.transform([x]))\n",
        "sentiment  = lambda x: 'positive' if predict(x) == 'positive' else 'negative'\n",
        "tweet = \"I like this movie\"\n",
        "sentiment(tweet)"
      ]
    },
    {
      "cell_type": "code",
      "execution_count": null,
      "metadata": {},
      "outputs": [],
      "source": [
        "plt.figure(figsize=(10, 10))\n",
        "sns.barplot(x='coefficients', y=coefficients.sort_values(by='abs', ascending=False).head(10).index, data=coefficients.sort_values(by='abs', ascending=False).head(10))\n",
        "plt.title('Top 10 Positive and Negative Words')\n",
        "plt.show()"
      ]
    },
    {
      "cell_type": "code",
      "execution_count": null,
      "metadata": {},
      "outputs": [],
      "source": [
        "plt.figure(figsize=(10, 10))\n",
        "sns.barplot(x='coefficients', y=coefficients.sort_values(by='abs', ascending=False).tail(10).index, data=coefficients.sort_values(by='abs', ascending=False).tail(10))\n",
        "plt.title('Top 10 Positive and Negative Words')\n",
        "plt.show()"
      ]
    }
  ],
  "metadata": {
    "colab": {
      "authorship_tag": "ABX9TyMii7XuhR1ZB6eIMIM6pNSR",
      "include_colab_link": true,
      "provenance": []
    },
    "kernelspec": {
      "display_name": "Python 3",
      "name": "python3"
    },
    "language_info": {
      "codemirror_mode": {
        "name": "ipython",
        "version": 3
      },
      "file_extension": ".py",
      "mimetype": "text/x-python",
      "name": "python",
      "nbconvert_exporter": "python",
      "pygments_lexer": "ipython3",
      "version": "3.11.2"
    }
  },
  "nbformat": 4,
  "nbformat_minor": 0
}
