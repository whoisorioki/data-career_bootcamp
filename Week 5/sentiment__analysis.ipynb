{
  "cells": [
    {
      "cell_type": "code",
      "execution_count": null,
      "metadata": {
        "colab": {
          "base_uri": "https://localhost:8080/",
          "height": 374
        },
        "id": "RsxtYj1sKXXe",
        "outputId": "6eff54b6-b8d8-42f1-b087-e126ca7b1227"
      },
      "outputs": [],
      "source": [
        "# Import libraries\n",
        "import re\n",
        "import nltk\n",
        "import string\n",
        "import flair\n",
        "import pandas as pd\n",
        "from nltk.corpus import stopwords\n",
        "pd.set_option('display.max_colwidth', None)\n"
      ]
    },
    {
      "cell_type": "code",
      "execution_count": null,
      "metadata": {},
      "outputs": [],
      "source": [
        "model = flair.models.TextClassifier.load('en-sentiment')\n"
      ]
    },
    {
      "cell_type": "code",
      "execution_count": null,
      "metadata": {
        "id": "CsAM_dgZLddz"
      },
      "outputs": [],
      "source": [
        "# Read the CSV file\n",
        "columns = [\"sentiment\", \"ID\", \"datetime\", \"query\", \"username\", \"text\"]\n",
        "df = pd.read_csv('sentiment_dataset.csv', delimiter=',',\n",
        "                 encoding=\"ISO-8859-1\", names=columns)\n",
        "df.head()\n"
      ]
    },
    {
      "cell_type": "code",
      "execution_count": null,
      "metadata": {
        "id": "6_poAUzuRcVw"
      },
      "outputs": [],
      "source": [
        "# Extract sentiment and text column, they will be relevant in this analysis\n",
        "df = df[['sentiment', 'text']]\n",
        "df.head()\n"
      ]
    },
    {
      "cell_type": "code",
      "execution_count": null,
      "metadata": {
        "id": "_ifPK0G-Uzhm"
      },
      "outputs": [],
      "source": [
        "# Fuction that performs cleaning using re library.\n",
        "# It removes uppercase, brackets, links, punctuation etc\n",
        "def cleaning(a):\n",
        "    a = str(a).lower()\n",
        "    a = re.sub('\\[.*?\\]', '', a)\n",
        "    a = re.sub('[%s]' % re.escape(string.punctuation), '', a)\n",
        "    a = re.sub('[()!?]', ' ', a)\n",
        "    a = re.sub('\\n', '', a)\n",
        "    a = re.sub('https?://\\S+|www\\.\\S+', '', a)\n",
        "    a = re.sub(r'^\\s*$', '', a)\n",
        "    a = re.sub('<.*?>+', '', a)\n",
        "    a = re.sub('\\w*\\d\\w*', '', a)\n",
        "    return a\n",
        "\n",
        "\n",
        "df['text'] = df['text'].apply(cleaning)\n",
        "df.head()\n"
      ]
    },
    {
      "cell_type": "code",
      "execution_count": null,
      "metadata": {
        "id": "uxvEarRpVtvC"
      },
      "outputs": [],
      "source": [
        "# Checking for balance\n",
        "df['sentiment'].value_counts()\n"
      ]
    },
    {
      "cell_type": "code",
      "execution_count": null,
      "metadata": {
        "id": "Z90pOfsAXko1"
      },
      "outputs": [],
      "source": [
        "# Removing stop words i.e., the, is, and, or, in, this etc\n",
        "s_words = stopwords.words('english')\n",
        "\n",
        "\n",
        "def removing(text):\n",
        "    a = ' '.join(i for i in text.split(' ') if i not in s_words)\n",
        "    return a\n",
        "\n",
        "\n",
        "df['text'] = df['text'].apply(removing)\n",
        "df.head()\n"
      ]
    },
    {
      "cell_type": "code",
      "execution_count": null,
      "metadata": {
        "id": "8gfTs0lDaTwH"
      },
      "outputs": [],
      "source": [
        "# Change 0 to negative and 4 to positive\n",
        "class_dict = {0: 'negative', 4: 'positive'}\n",
        "df['sentiment'] = df['sentiment'].apply(lambda x:  class_dict[x])\n",
        "df.head()\n"
      ]
    },
    {
      "cell_type": "code",
      "execution_count": null,
      "metadata": {
        "id": "DJdBJ-6obsjZ"
      },
      "outputs": [],
      "source": [
        "# Stemming words that have same meaning\n",
        "stemmer = nltk.SnowballStemmer(\"english\")\n",
        "\n",
        "\n",
        "def stemming(text):\n",
        "    text = ' '.join(stemmer.stem(i) for i in text.split(' '))\n",
        "    return text\n",
        "\n",
        "\n",
        "df['text'] = df['text'].apply(stemming)\n",
        "df.head()\n"
      ]
    },
    {
      "cell_type": "code",
      "execution_count": null,
      "metadata": {},
      "outputs": [],
      "source": [
        "# Stripping off extra spaces\n",
        "df['text'] = df['text'].str.strip()\n",
        "df.head()\n"
      ]
    },
    {
      "attachments": {},
      "cell_type": "markdown",
      "metadata": {},
      "source": [
        "## Using Flair"
      ]
    },
    {
      "cell_type": "code",
      "execution_count": null,
      "metadata": {},
      "outputs": [],
      "source": [
        "sentiment = []\n",
        "confidence = []\n",
        "\n",
        "for text in df['text']:\n",
        "    if text.strip() == \"\":\n",
        "        sentiment.append(\"\")\n",
        "        confidence.append(\"\")\n",
        "\n",
        "    sample = flair.data.Sentence(text)\n",
        "    model.predict(sample)\n",
        "\n",
        "    if len(sample.labels) > 0:\n",
        "        sentiment.append(sample.labels[0].value)\n",
        "        confidence.append(sample.labels[0].score)\n",
        "    else:\n",
        "        # handle case where no label was predicted\n",
        "        sentiment.append(\"\")\n",
        "        confidence.append(\"\")\n"
      ]
    },
    {
      "cell_type": "code",
      "execution_count": null,
      "metadata": {},
      "outputs": [],
      "source": [
        "df['pred_sentiment'] = sentiment\n",
        "df['confidence'] = confidence\n"
      ]
    },
    {
      "cell_type": "code",
      "execution_count": null,
      "metadata": {},
      "outputs": [],
      "source": [
        "df.head(10)\n"
      ]
    },
    {
      "cell_type": "code",
      "execution_count": null,
      "metadata": {
        "id": "Ra1-djeYe6i-"
      },
      "outputs": [],
      "source": [
        "# Split the data to train data and test data\n",
        "X = df['text']\n",
        "y = df['sentiment']\n",
        "X_train, X_test, y_train, y_test = train_test_split(X, y, test_size=0.25, random_state=42)\n"
      ]
    }
  ],
  "metadata": {
    "colab": {
      "authorship_tag": "ABX9TyMii7XuhR1ZB6eIMIM6pNSR",
      "include_colab_link": true,
      "provenance": []
    },
    "kernelspec": {
      "display_name": "Python 3",
      "name": "python3"
    },
    "language_info": {
      "codemirror_mode": {
        "name": "ipython",
        "version": 3
      },
      "file_extension": ".py",
      "mimetype": "text/x-python",
      "name": "python",
      "nbconvert_exporter": "python",
      "pygments_lexer": "ipython3",
      "version": "3.10.10"
    }
  },
  "nbformat": 4,
  "nbformat_minor": 0
}
